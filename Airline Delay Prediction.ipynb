{
 "cells": [
  {
   "cell_type": "markdown",
   "metadata": {},
   "source": [
    "# Use this dataset of airline information to predict how late flights will be. A flight only counts as late if it is more than 30 minutes late."
   ]
  },
  {
   "cell_type": "raw",
   "metadata": {},
   "source": [
    "Show with a table (or ideally with a graph) the total number of flights, on January, in 2008.For each month of data available from January 2008 (inclusive), obtain many airports with the greatest reduction in the number of flights.\n",
    "\n",
    "goals:\n",
    "1-Develop a predictive model of the GAIN variable using somee methods. Briefly justify the goodness / power of the model developed.\n",
    "\n",
    "2-Generate a model using Naive Bayes, Logistic Regression, Decision Tree, Random Forest, Gradient Boosting and SVM that allows us to predict the probability of a flight delay. We want to know the origins with the highest and lowest probability of being delayed, as well as the destinations with the highest and lowest probability of being delayed. Finally, we will obtain the probability of suffering a delay based on the month, day of the month, day of the week and time of day and we will compare those results with those obtained in the first exercise."
   ]
  },
  {
   "cell_type": "code",
   "execution_count": 1,
   "metadata": {},
   "outputs": [],
   "source": [
    "import pandas as pd\n",
    "import numpy as np\n",
    "import seaborn as sns\n",
    "import matplotlib.pyplot as plt"
   ]
  },
  {
   "cell_type": "code",
   "execution_count": 2,
   "metadata": {
    "scrolled": true
   },
   "outputs": [
    {
     "data": {
      "text/html": [
       "<div>\n",
       "<style scoped>\n",
       "    .dataframe tbody tr th:only-of-type {\n",
       "        vertical-align: middle;\n",
       "    }\n",
       "\n",
       "    .dataframe tbody tr th {\n",
       "        vertical-align: top;\n",
       "    }\n",
       "\n",
       "    .dataframe thead th {\n",
       "        text-align: right;\n",
       "    }\n",
       "</style>\n",
       "<table border=\"1\" class=\"dataframe\">\n",
       "  <thead>\n",
       "    <tr style=\"text-align: right;\">\n",
       "      <th></th>\n",
       "      <th>YEAR</th>\n",
       "      <th>MONTH</th>\n",
       "      <th>DAY_OF_MONTH</th>\n",
       "      <th>DAY_OF_WEEK</th>\n",
       "      <th>OP_UNIQUE_CARRIER</th>\n",
       "      <th>TAIL_NUM</th>\n",
       "      <th>OP_CARRIER_FL_NUM</th>\n",
       "      <th>ORIGIN</th>\n",
       "      <th>DEST</th>\n",
       "      <th>CRS_DEP_TIME</th>\n",
       "      <th>...</th>\n",
       "      <th>CRS_ELAPSED_TIME</th>\n",
       "      <th>ACTUAL_ELAPSED_TIME</th>\n",
       "      <th>AIR_TIME</th>\n",
       "      <th>DISTANCE</th>\n",
       "      <th>CARRIER_DELAY</th>\n",
       "      <th>WEATHER_DELAY</th>\n",
       "      <th>NAS_DELAY</th>\n",
       "      <th>SECURITY_DELAY</th>\n",
       "      <th>LATE_AIRCRAFT_DELAY</th>\n",
       "      <th>Unnamed: 29</th>\n",
       "    </tr>\n",
       "  </thead>\n",
       "  <tbody>\n",
       "    <tr>\n",
       "      <th>0</th>\n",
       "      <td>2008</td>\n",
       "      <td>1</td>\n",
       "      <td>12</td>\n",
       "      <td>6</td>\n",
       "      <td>9E</td>\n",
       "      <td>87339E</td>\n",
       "      <td>3706</td>\n",
       "      <td>MLI</td>\n",
       "      <td>DTW</td>\n",
       "      <td>630</td>\n",
       "      <td>...</td>\n",
       "      <td>98.0</td>\n",
       "      <td>85.0</td>\n",
       "      <td>64.0</td>\n",
       "      <td>373.0</td>\n",
       "      <td>NaN</td>\n",
       "      <td>NaN</td>\n",
       "      <td>NaN</td>\n",
       "      <td>NaN</td>\n",
       "      <td>NaN</td>\n",
       "      <td>NaN</td>\n",
       "    </tr>\n",
       "    <tr>\n",
       "      <th>1</th>\n",
       "      <td>2008</td>\n",
       "      <td>1</td>\n",
       "      <td>14</td>\n",
       "      <td>1</td>\n",
       "      <td>9E</td>\n",
       "      <td>80009E</td>\n",
       "      <td>3706</td>\n",
       "      <td>MLI</td>\n",
       "      <td>DTW</td>\n",
       "      <td>630</td>\n",
       "      <td>...</td>\n",
       "      <td>98.0</td>\n",
       "      <td>103.0</td>\n",
       "      <td>64.0</td>\n",
       "      <td>373.0</td>\n",
       "      <td>NaN</td>\n",
       "      <td>NaN</td>\n",
       "      <td>NaN</td>\n",
       "      <td>NaN</td>\n",
       "      <td>NaN</td>\n",
       "      <td>NaN</td>\n",
       "    </tr>\n",
       "    <tr>\n",
       "      <th>2</th>\n",
       "      <td>2008</td>\n",
       "      <td>1</td>\n",
       "      <td>15</td>\n",
       "      <td>2</td>\n",
       "      <td>9E</td>\n",
       "      <td>87219E</td>\n",
       "      <td>3706</td>\n",
       "      <td>MLI</td>\n",
       "      <td>DTW</td>\n",
       "      <td>630</td>\n",
       "      <td>...</td>\n",
       "      <td>98.0</td>\n",
       "      <td>109.0</td>\n",
       "      <td>80.0</td>\n",
       "      <td>373.0</td>\n",
       "      <td>34.0</td>\n",
       "      <td>0.0</td>\n",
       "      <td>11.0</td>\n",
       "      <td>0.0</td>\n",
       "      <td>0.0</td>\n",
       "      <td>NaN</td>\n",
       "    </tr>\n",
       "    <tr>\n",
       "      <th>3</th>\n",
       "      <td>2008</td>\n",
       "      <td>1</td>\n",
       "      <td>16</td>\n",
       "      <td>3</td>\n",
       "      <td>9E</td>\n",
       "      <td>80019E</td>\n",
       "      <td>3706</td>\n",
       "      <td>MLI</td>\n",
       "      <td>DTW</td>\n",
       "      <td>630</td>\n",
       "      <td>...</td>\n",
       "      <td>98.0</td>\n",
       "      <td>104.0</td>\n",
       "      <td>62.0</td>\n",
       "      <td>373.0</td>\n",
       "      <td>NaN</td>\n",
       "      <td>NaN</td>\n",
       "      <td>NaN</td>\n",
       "      <td>NaN</td>\n",
       "      <td>NaN</td>\n",
       "      <td>NaN</td>\n",
       "    </tr>\n",
       "    <tr>\n",
       "      <th>4</th>\n",
       "      <td>2008</td>\n",
       "      <td>1</td>\n",
       "      <td>17</td>\n",
       "      <td>4</td>\n",
       "      <td>9E</td>\n",
       "      <td>88009E</td>\n",
       "      <td>3706</td>\n",
       "      <td>MLI</td>\n",
       "      <td>DTW</td>\n",
       "      <td>630</td>\n",
       "      <td>...</td>\n",
       "      <td>98.0</td>\n",
       "      <td>105.0</td>\n",
       "      <td>72.0</td>\n",
       "      <td>373.0</td>\n",
       "      <td>NaN</td>\n",
       "      <td>NaN</td>\n",
       "      <td>NaN</td>\n",
       "      <td>NaN</td>\n",
       "      <td>NaN</td>\n",
       "      <td>NaN</td>\n",
       "    </tr>\n",
       "  </tbody>\n",
       "</table>\n",
       "<p>5 rows × 30 columns</p>\n",
       "</div>"
      ],
      "text/plain": [
       "   YEAR  MONTH  DAY_OF_MONTH  DAY_OF_WEEK OP_UNIQUE_CARRIER TAIL_NUM  \\\n",
       "0  2008      1            12            6                9E   87339E   \n",
       "1  2008      1            14            1                9E   80009E   \n",
       "2  2008      1            15            2                9E   87219E   \n",
       "3  2008      1            16            3                9E   80019E   \n",
       "4  2008      1            17            4                9E   88009E   \n",
       "\n",
       "   OP_CARRIER_FL_NUM ORIGIN DEST  CRS_DEP_TIME  ...  CRS_ELAPSED_TIME  \\\n",
       "0               3706    MLI  DTW           630  ...              98.0   \n",
       "1               3706    MLI  DTW           630  ...              98.0   \n",
       "2               3706    MLI  DTW           630  ...              98.0   \n",
       "3               3706    MLI  DTW           630  ...              98.0   \n",
       "4               3706    MLI  DTW           630  ...              98.0   \n",
       "\n",
       "   ACTUAL_ELAPSED_TIME  AIR_TIME  DISTANCE  CARRIER_DELAY  WEATHER_DELAY  \\\n",
       "0                 85.0      64.0     373.0            NaN            NaN   \n",
       "1                103.0      64.0     373.0            NaN            NaN   \n",
       "2                109.0      80.0     373.0           34.0            0.0   \n",
       "3                104.0      62.0     373.0            NaN            NaN   \n",
       "4                105.0      72.0     373.0            NaN            NaN   \n",
       "\n",
       "   NAS_DELAY  SECURITY_DELAY LATE_AIRCRAFT_DELAY  Unnamed: 29  \n",
       "0        NaN             NaN                 NaN          NaN  \n",
       "1        NaN             NaN                 NaN          NaN  \n",
       "2       11.0             0.0                 0.0          NaN  \n",
       "3        NaN             NaN                 NaN          NaN  \n",
       "4        NaN             NaN                 NaN          NaN  \n",
       "\n",
       "[5 rows x 30 columns]"
      ]
     },
     "execution_count": 2,
     "metadata": {},
     "output_type": "execute_result"
    }
   ],
   "source": [
    "airlines=pd.read_csv(\"new.csv\")\n",
    "airlines.head(5)"
   ]
  },
  {
   "cell_type": "code",
   "execution_count": 3,
   "metadata": {},
   "outputs": [
    {
     "data": {
      "text/plain": [
       "(605765, 30)"
      ]
     },
     "execution_count": 3,
     "metadata": {},
     "output_type": "execute_result"
    }
   ],
   "source": [
    "airlines.shape"
   ]
  },
  {
   "cell_type": "code",
   "execution_count": 4,
   "metadata": {},
   "outputs": [
    {
     "name": "stdout",
     "output_type": "stream",
     "text": [
      "<class 'pandas.core.frame.DataFrame'>\n",
      "RangeIndex: 605765 entries, 0 to 605764\n",
      "Data columns (total 30 columns):\n",
      " #   Column               Non-Null Count   Dtype  \n",
      "---  ------               --------------   -----  \n",
      " 0   YEAR                 605765 non-null  int64  \n",
      " 1   MONTH                605765 non-null  int64  \n",
      " 2   DAY_OF_MONTH         605765 non-null  int64  \n",
      " 3   DAY_OF_WEEK          605765 non-null  int64  \n",
      " 4   OP_UNIQUE_CARRIER    605765 non-null  object \n",
      " 5   TAIL_NUM             595813 non-null  object \n",
      " 6   OP_CARRIER_FL_NUM    605765 non-null  int64  \n",
      " 7   ORIGIN               605765 non-null  object \n",
      " 8   DEST                 605765 non-null  object \n",
      " 9   CRS_DEP_TIME         605765 non-null  int64  \n",
      " 10  DEP_TIME             588457 non-null  float64\n",
      " 11  DEP_DELAY            588457 non-null  float64\n",
      " 12  TAXI_OUT             588457 non-null  float64\n",
      " 13  TAXI_IN              587130 non-null  float64\n",
      " 14  CRS_ARR_TIME         605765 non-null  int64  \n",
      " 15  ARR_TIME             587130 non-null  float64\n",
      " 16  ARR_DELAY            587130 non-null  float64\n",
      " 17  CANCELLED            605765 non-null  float64\n",
      " 18  CANCELLATION_CODE    17308 non-null   object \n",
      " 19  DIVERTED             605765 non-null  float64\n",
      " 20  CRS_ELAPSED_TIME     605659 non-null  float64\n",
      " 21  ACTUAL_ELAPSED_TIME  587130 non-null  float64\n",
      " 22  AIR_TIME             587130 non-null  float64\n",
      " 23  DISTANCE             605765 non-null  float64\n",
      " 24  CARRIER_DELAY        148807 non-null  float64\n",
      " 25  WEATHER_DELAY        148807 non-null  float64\n",
      " 26  NAS_DELAY            148807 non-null  float64\n",
      " 27  SECURITY_DELAY       148807 non-null  float64\n",
      " 28  LATE_AIRCRAFT_DELAY  148807 non-null  float64\n",
      " 29  Unnamed: 29          0 non-null       float64\n",
      "dtypes: float64(18), int64(7), object(5)\n",
      "memory usage: 138.6+ MB\n"
     ]
    }
   ],
   "source": [
    "airlines.info()"
   ]
  },
  {
   "cell_type": "raw",
   "metadata": {},
   "source": [
    "we want to expalin each of the attributes for first dataset(df1)\n",
    "1-Year\n",
    "2-Month\n",
    "3-Day Of Month\n",
    "4-Unique Carrier Code\n",
    "5-Tail Number\n",
    "6-Flight Number\n",
    "7-Origin Airport\n",
    "8-Destination Airport\n",
    "9-CRS Departure Time (local time: hhmm)\n",
    "10-Actual Departure Time (local time: hhmm)\n",
    "11-Difference in minutes between scheduled and actual departure time. Early departures show negative numbers.\n",
    "12-Taxi Out Time, in Minutes\n",
    "13-Taxi IN Time, in Minutes\n",
    "14-CRS Arrival Time (local time: hhmm)\n",
    "15-Actual Arrival Time (local time: hhmm)\n",
    "16-Difference in minutes between scheduled and actual arrival time. Early arrivals show negative numbers.\n",
    "17-Cancelled Flight Indicator (1=Yes)\t\t\n",
    "18-Specifies The Reason For Cancellation\t\t\n",
    "19-Diverted Flight Indicator (1=Yes)\t\t\n",
    "20-CRS Elapsed Time of Flight, in Minutes\t\t\n",
    "21-Elapsed Time of Flight, in Minutes\t\t\n",
    "22-Flight Time, in Minutes\n",
    "23-Distance between airports (miles)\t\t\n",
    "24-Carrier Delay, in Minutes\n",
    "25-Weather Delay, in Minutes\n",
    "26-National Air System Delay, in Minutes\n",
    "27-Security Delay, in Minutes\n",
    "28-Late Aircraft Delay, in Minutes"
   ]
  },
  {
   "cell_type": "raw",
   "metadata": {},
   "source": [
    "After we define the datas, we have to make sure for zero value or lost data"
   ]
  },
  {
   "cell_type": "code",
   "execution_count": 5,
   "metadata": {},
   "outputs": [],
   "source": [
    "# Replace using median \n",
    "median = airlines['DEP_TIME'].median()\n",
    "airlines['DEP_TIME'].fillna(median, inplace=True)\n",
    "median = airlines['DEP_DELAY'].median()\n",
    "airlines['DEP_DELAY'].fillna(median, inplace=True)\n",
    "median = airlines['TAXI_OUT'].median()\n",
    "airlines['TAXI_OUT'].fillna(median, inplace=True)\n",
    "median = airlines['TAXI_IN'].median()\n",
    "airlines['TAXI_IN'].fillna(median, inplace=True)\n",
    "median = airlines['ARR_TIME'].median()\n",
    "airlines['ARR_TIME'].fillna(median, inplace=True)\n",
    "median = airlines['ARR_DELAY'].median()\n",
    "airlines['ARR_DELAY'].fillna(median, inplace=True)\n",
    "median = airlines['ARR_DELAY'].median()\n",
    "airlines['ARR_DELAY'].fillna(median, inplace=True)\n",
    "median = airlines['CRS_ELAPSED_TIME'].median()\n",
    "airlines['CRS_ELAPSED_TIME'].fillna(median, inplace=True)\n",
    "median = airlines['ACTUAL_ELAPSED_TIME'].median()\n",
    "airlines['ACTUAL_ELAPSED_TIME'].fillna(median, inplace=True)\n",
    "median = airlines['AIR_TIME'].median()\n",
    "airlines['AIR_TIME'].fillna(median, inplace=True)\n",
    "median = airlines['AIR_TIME'].median()\n",
    "airlines['AIR_TIME'].fillna(median, inplace=True)\n",
    "median = airlines['LATE_AIRCRAFT_DELAY'].median()\n",
    "airlines['LATE_AIRCRAFT_DELAY'].fillna(median, inplace=True)\n",
    "median = airlines['SECURITY_DELAY'].median()\n",
    "airlines['SECURITY_DELAY'].fillna(median, inplace=True)\n",
    "median = airlines['NAS_DELAY'].median()\n",
    "airlines['NAS_DELAY'].fillna(median, inplace=True)\n",
    "median = airlines['CARRIER_DELAY'].median()\n",
    "airlines['CARRIER_DELAY'].fillna(median, inplace=True)"
   ]
  },
  {
   "cell_type": "code",
   "execution_count": 6,
   "metadata": {},
   "outputs": [
    {
     "data": {
      "text/plain": [
       "YEAR                        0\n",
       "MONTH                       0\n",
       "DAY_OF_MONTH                0\n",
       "DAY_OF_WEEK                 0\n",
       "OP_UNIQUE_CARRIER           0\n",
       "TAIL_NUM                 9952\n",
       "OP_CARRIER_FL_NUM           0\n",
       "ORIGIN                      0\n",
       "DEST                        0\n",
       "CRS_DEP_TIME                0\n",
       "DEP_TIME                    0\n",
       "DEP_DELAY                   0\n",
       "TAXI_OUT                    0\n",
       "TAXI_IN                     0\n",
       "CRS_ARR_TIME                0\n",
       "ARR_TIME                    0\n",
       "ARR_DELAY                   0\n",
       "CANCELLED                   0\n",
       "CANCELLATION_CODE      588457\n",
       "DIVERTED                    0\n",
       "CRS_ELAPSED_TIME            0\n",
       "ACTUAL_ELAPSED_TIME         0\n",
       "AIR_TIME                    0\n",
       "DISTANCE                    0\n",
       "CARRIER_DELAY               0\n",
       "WEATHER_DELAY          456958\n",
       "NAS_DELAY                   0\n",
       "SECURITY_DELAY              0\n",
       "LATE_AIRCRAFT_DELAY         0\n",
       "Unnamed: 29            605765\n",
       "dtype: int64"
      ]
     },
     "execution_count": 6,
     "metadata": {},
     "output_type": "execute_result"
    }
   ],
   "source": [
    "# we can use median for non nominal values\n",
    "airlines.isnull().sum()"
   ]
  },
  {
   "cell_type": "raw",
   "metadata": {},
   "source": [
    "we can  transform the NAN-data to the value \"0.0\" because there was no impact on the flight that causes a delay.\n",
    "\n",
    "Null values have now decreased Drastically. There are only a few attributes left."
   ]
  },
  {
   "cell_type": "code",
   "execution_count": 7,
   "metadata": {},
   "outputs": [],
   "source": [
    "airlines['WEATHER_DELAY'] =airlines['WEATHER_DELAY'].fillna(0)\n",
    "airlines['TAIL_NUM'] =airlines['TAIL_NUM'].fillna(0)\n",
    "airlines['CANCELLATION_CODE'] =airlines['CANCELLATION_CODE'].fillna('D')"
   ]
  },
  {
   "cell_type": "code",
   "execution_count": 8,
   "metadata": {},
   "outputs": [
    {
     "data": {
      "text/plain": [
       "YEAR                        0\n",
       "MONTH                       0\n",
       "DAY_OF_MONTH                0\n",
       "DAY_OF_WEEK                 0\n",
       "OP_UNIQUE_CARRIER           0\n",
       "TAIL_NUM                    0\n",
       "OP_CARRIER_FL_NUM           0\n",
       "ORIGIN                      0\n",
       "DEST                        0\n",
       "CRS_DEP_TIME                0\n",
       "DEP_TIME                    0\n",
       "DEP_DELAY                   0\n",
       "TAXI_OUT                    0\n",
       "TAXI_IN                     0\n",
       "CRS_ARR_TIME                0\n",
       "ARR_TIME                    0\n",
       "ARR_DELAY                   0\n",
       "CANCELLED                   0\n",
       "CANCELLATION_CODE           0\n",
       "DIVERTED                    0\n",
       "CRS_ELAPSED_TIME            0\n",
       "ACTUAL_ELAPSED_TIME         0\n",
       "AIR_TIME                    0\n",
       "DISTANCE                    0\n",
       "CARRIER_DELAY               0\n",
       "WEATHER_DELAY               0\n",
       "NAS_DELAY                   0\n",
       "SECURITY_DELAY              0\n",
       "LATE_AIRCRAFT_DELAY         0\n",
       "Unnamed: 29            605765\n",
       "dtype: int64"
      ]
     },
     "execution_count": 8,
     "metadata": {},
     "output_type": "execute_result"
    }
   ],
   "source": [
    "airlines.isnull().sum()"
   ]
  },
  {
   "cell_type": "code",
   "execution_count": 9,
   "metadata": {},
   "outputs": [
    {
     "data": {
      "text/plain": [
       "D    588457\n",
       "B      6711\n",
       "A      6635\n",
       "C      3962\n",
       "Name: CANCELLATION_CODE, dtype: int64"
      ]
     },
     "execution_count": 9,
     "metadata": {},
     "output_type": "execute_result"
    }
   ],
   "source": [
    "# Reason why you cancel your flight\n",
    "airlines['CANCELLATION_CODE'].value_counts()\n",
    "#\"A\",\"Carrier\"\n",
    "#\"B\",\"Security\"\n",
    "#\"C\",\"National Air System\"\n",
    "#\"D\",\"Weather\""
   ]
  },
  {
   "cell_type": "raw",
   "metadata": {},
   "source": [
    "we can see the waather is the main reason for cancelling the flight."
   ]
  },
  {
   "cell_type": "code",
   "execution_count": 10,
   "metadata": {},
   "outputs": [
    {
     "data": {
      "text/plain": [
       "YEAR                        0\n",
       "MONTH                       0\n",
       "DAY_OF_MONTH                0\n",
       "DAY_OF_WEEK                 0\n",
       "OP_UNIQUE_CARRIER           0\n",
       "TAIL_NUM                    0\n",
       "OP_CARRIER_FL_NUM           0\n",
       "ORIGIN                      0\n",
       "DEST                        0\n",
       "CRS_DEP_TIME                0\n",
       "DEP_TIME                    0\n",
       "DEP_DELAY                   0\n",
       "TAXI_OUT                    0\n",
       "TAXI_IN                     0\n",
       "CRS_ARR_TIME                0\n",
       "ARR_TIME                    0\n",
       "ARR_DELAY                   0\n",
       "CANCELLED                   0\n",
       "CANCELLATION_CODE           0\n",
       "DIVERTED                    0\n",
       "CRS_ELAPSED_TIME            0\n",
       "ACTUAL_ELAPSED_TIME         0\n",
       "AIR_TIME                    0\n",
       "DISTANCE                    0\n",
       "CARRIER_DELAY               0\n",
       "WEATHER_DELAY               0\n",
       "NAS_DELAY                   0\n",
       "SECURITY_DELAY              0\n",
       "LATE_AIRCRAFT_DELAY         0\n",
       "Unnamed: 29            605765\n",
       "dtype: int64"
      ]
     },
     "execution_count": 10,
     "metadata": {},
     "output_type": "execute_result"
    }
   ],
   "source": [
    "airlines.isnull().sum()"
   ]
  },
  {
   "cell_type": "markdown",
   "metadata": {},
   "source": [
    "After the the cleaning the first data set, we have to figure out how can impact of the delay with carriers and airport data and we want to join into the first one."
   ]
  },
  {
   "cell_type": "code",
   "execution_count": 11,
   "metadata": {},
   "outputs": [
    {
     "data": {
      "text/html": [
       "<div>\n",
       "<style scoped>\n",
       "    .dataframe tbody tr th:only-of-type {\n",
       "        vertical-align: middle;\n",
       "    }\n",
       "\n",
       "    .dataframe tbody tr th {\n",
       "        vertical-align: top;\n",
       "    }\n",
       "\n",
       "    .dataframe thead th {\n",
       "        text-align: right;\n",
       "    }\n",
       "</style>\n",
       "<table border=\"1\" class=\"dataframe\">\n",
       "  <thead>\n",
       "    <tr style=\"text-align: right;\">\n",
       "      <th></th>\n",
       "      <th>iata</th>\n",
       "      <th>airport</th>\n",
       "      <th>city</th>\n",
       "      <th>state</th>\n",
       "      <th>country</th>\n",
       "      <th>lat</th>\n",
       "      <th>long</th>\n",
       "    </tr>\n",
       "  </thead>\n",
       "  <tbody>\n",
       "    <tr>\n",
       "      <th>0</th>\n",
       "      <td>00M</td>\n",
       "      <td>Thigpen</td>\n",
       "      <td>Bay Springs</td>\n",
       "      <td>MS</td>\n",
       "      <td>USA</td>\n",
       "      <td>31.953765</td>\n",
       "      <td>-89.234505</td>\n",
       "    </tr>\n",
       "    <tr>\n",
       "      <th>1</th>\n",
       "      <td>00R</td>\n",
       "      <td>Livingston Municipal</td>\n",
       "      <td>Livingston</td>\n",
       "      <td>TX</td>\n",
       "      <td>USA</td>\n",
       "      <td>30.685861</td>\n",
       "      <td>-95.017928</td>\n",
       "    </tr>\n",
       "    <tr>\n",
       "      <th>2</th>\n",
       "      <td>00V</td>\n",
       "      <td>Meadow Lake</td>\n",
       "      <td>Colorado Springs</td>\n",
       "      <td>CO</td>\n",
       "      <td>USA</td>\n",
       "      <td>38.945749</td>\n",
       "      <td>-104.569893</td>\n",
       "    </tr>\n",
       "    <tr>\n",
       "      <th>3</th>\n",
       "      <td>01G</td>\n",
       "      <td>Perry-Warsaw</td>\n",
       "      <td>Perry</td>\n",
       "      <td>NY</td>\n",
       "      <td>USA</td>\n",
       "      <td>42.741347</td>\n",
       "      <td>-78.052081</td>\n",
       "    </tr>\n",
       "    <tr>\n",
       "      <th>4</th>\n",
       "      <td>01J</td>\n",
       "      <td>Hilliard Airpark</td>\n",
       "      <td>Hilliard</td>\n",
       "      <td>FL</td>\n",
       "      <td>USA</td>\n",
       "      <td>30.688012</td>\n",
       "      <td>-81.905944</td>\n",
       "    </tr>\n",
       "    <tr>\n",
       "      <th>...</th>\n",
       "      <td>...</td>\n",
       "      <td>...</td>\n",
       "      <td>...</td>\n",
       "      <td>...</td>\n",
       "      <td>...</td>\n",
       "      <td>...</td>\n",
       "      <td>...</td>\n",
       "    </tr>\n",
       "    <tr>\n",
       "      <th>3371</th>\n",
       "      <td>ZEF</td>\n",
       "      <td>Elkin Municipal</td>\n",
       "      <td>Elkin</td>\n",
       "      <td>NC</td>\n",
       "      <td>USA</td>\n",
       "      <td>36.280024</td>\n",
       "      <td>-80.786069</td>\n",
       "    </tr>\n",
       "    <tr>\n",
       "      <th>3372</th>\n",
       "      <td>ZER</td>\n",
       "      <td>Schuylkill Cty/Joe Zerbey</td>\n",
       "      <td>Pottsville</td>\n",
       "      <td>PA</td>\n",
       "      <td>USA</td>\n",
       "      <td>40.706449</td>\n",
       "      <td>-76.373147</td>\n",
       "    </tr>\n",
       "    <tr>\n",
       "      <th>3373</th>\n",
       "      <td>ZPH</td>\n",
       "      <td>Zephyrhills Municipal</td>\n",
       "      <td>Zephyrhills</td>\n",
       "      <td>FL</td>\n",
       "      <td>USA</td>\n",
       "      <td>28.228065</td>\n",
       "      <td>-82.155916</td>\n",
       "    </tr>\n",
       "    <tr>\n",
       "      <th>3374</th>\n",
       "      <td>ZUN</td>\n",
       "      <td>Black Rock</td>\n",
       "      <td>Zuni</td>\n",
       "      <td>NM</td>\n",
       "      <td>USA</td>\n",
       "      <td>35.083227</td>\n",
       "      <td>-108.791777</td>\n",
       "    </tr>\n",
       "    <tr>\n",
       "      <th>3375</th>\n",
       "      <td>ZZV</td>\n",
       "      <td>Zanesville Municipal</td>\n",
       "      <td>Zanesville</td>\n",
       "      <td>OH</td>\n",
       "      <td>USA</td>\n",
       "      <td>39.944458</td>\n",
       "      <td>-81.892105</td>\n",
       "    </tr>\n",
       "  </tbody>\n",
       "</table>\n",
       "<p>3376 rows × 7 columns</p>\n",
       "</div>"
      ],
      "text/plain": [
       "     iata                    airport              city state country  \\\n",
       "0     00M                   Thigpen        Bay Springs    MS     USA   \n",
       "1     00R       Livingston Municipal        Livingston    TX     USA   \n",
       "2     00V                Meadow Lake  Colorado Springs    CO     USA   \n",
       "3     01G               Perry-Warsaw             Perry    NY     USA   \n",
       "4     01J           Hilliard Airpark          Hilliard    FL     USA   \n",
       "...   ...                        ...               ...   ...     ...   \n",
       "3371  ZEF            Elkin Municipal             Elkin    NC     USA   \n",
       "3372  ZER  Schuylkill Cty/Joe Zerbey        Pottsville    PA     USA   \n",
       "3373  ZPH      Zephyrhills Municipal       Zephyrhills    FL     USA   \n",
       "3374  ZUN                 Black Rock              Zuni    NM     USA   \n",
       "3375  ZZV       Zanesville Municipal        Zanesville    OH     USA   \n",
       "\n",
       "            lat        long  \n",
       "0     31.953765  -89.234505  \n",
       "1     30.685861  -95.017928  \n",
       "2     38.945749 -104.569893  \n",
       "3     42.741347  -78.052081  \n",
       "4     30.688012  -81.905944  \n",
       "...         ...         ...  \n",
       "3371  36.280024  -80.786069  \n",
       "3372  40.706449  -76.373147  \n",
       "3373  28.228065  -82.155916  \n",
       "3374  35.083227 -108.791777  \n",
       "3375  39.944458  -81.892105  \n",
       "\n",
       "[3376 rows x 7 columns]"
      ]
     },
     "execution_count": 11,
     "metadata": {},
     "output_type": "execute_result"
    }
   ],
   "source": [
    "airports=pd.read_csv('airports.csv')\n",
    "airports"
   ]
  },
  {
   "cell_type": "code",
   "execution_count": 12,
   "metadata": {},
   "outputs": [
    {
     "data": {
      "text/html": [
       "<div>\n",
       "<style scoped>\n",
       "    .dataframe tbody tr th:only-of-type {\n",
       "        vertical-align: middle;\n",
       "    }\n",
       "\n",
       "    .dataframe tbody tr th {\n",
       "        vertical-align: top;\n",
       "    }\n",
       "\n",
       "    .dataframe thead th {\n",
       "        text-align: right;\n",
       "    }\n",
       "</style>\n",
       "<table border=\"1\" class=\"dataframe\">\n",
       "  <thead>\n",
       "    <tr style=\"text-align: right;\">\n",
       "      <th></th>\n",
       "      <th>Code</th>\n",
       "      <th>Description</th>\n",
       "    </tr>\n",
       "  </thead>\n",
       "  <tbody>\n",
       "    <tr>\n",
       "      <th>0</th>\n",
       "      <td>02Q</td>\n",
       "      <td>Titan Airways</td>\n",
       "    </tr>\n",
       "    <tr>\n",
       "      <th>1</th>\n",
       "      <td>04Q</td>\n",
       "      <td>Tradewind Aviation</td>\n",
       "    </tr>\n",
       "    <tr>\n",
       "      <th>2</th>\n",
       "      <td>05Q</td>\n",
       "      <td>Comlux Aviation, AG</td>\n",
       "    </tr>\n",
       "    <tr>\n",
       "      <th>3</th>\n",
       "      <td>06Q</td>\n",
       "      <td>Master Top Linhas Aereas Ltd.</td>\n",
       "    </tr>\n",
       "    <tr>\n",
       "      <th>4</th>\n",
       "      <td>07Q</td>\n",
       "      <td>Flair Airlines Ltd.</td>\n",
       "    </tr>\n",
       "    <tr>\n",
       "      <th>...</th>\n",
       "      <td>...</td>\n",
       "      <td>...</td>\n",
       "    </tr>\n",
       "    <tr>\n",
       "      <th>1486</th>\n",
       "      <td>ZW</td>\n",
       "      <td>Air Wisconsin Airlines Corp</td>\n",
       "    </tr>\n",
       "    <tr>\n",
       "      <th>1487</th>\n",
       "      <td>ZX</td>\n",
       "      <td>Air Georgian</td>\n",
       "    </tr>\n",
       "    <tr>\n",
       "      <th>1488</th>\n",
       "      <td>ZX (1)</td>\n",
       "      <td>Airbc Ltd.</td>\n",
       "    </tr>\n",
       "    <tr>\n",
       "      <th>1489</th>\n",
       "      <td>ZY</td>\n",
       "      <td>Atlantic Gulf Airlines</td>\n",
       "    </tr>\n",
       "    <tr>\n",
       "      <th>1490</th>\n",
       "      <td>ZYZ</td>\n",
       "      <td>Skyway Aviation Inc.</td>\n",
       "    </tr>\n",
       "  </tbody>\n",
       "</table>\n",
       "<p>1491 rows × 2 columns</p>\n",
       "</div>"
      ],
      "text/plain": [
       "        Code                    Description\n",
       "0        02Q                  Titan Airways\n",
       "1        04Q             Tradewind Aviation\n",
       "2        05Q            Comlux Aviation, AG\n",
       "3        06Q  Master Top Linhas Aereas Ltd.\n",
       "4        07Q            Flair Airlines Ltd.\n",
       "...      ...                            ...\n",
       "1486      ZW    Air Wisconsin Airlines Corp\n",
       "1487      ZX                   Air Georgian\n",
       "1488  ZX (1)                     Airbc Ltd.\n",
       "1489      ZY         Atlantic Gulf Airlines\n",
       "1490     ZYZ           Skyway Aviation Inc.\n",
       "\n",
       "[1491 rows x 2 columns]"
      ]
     },
     "execution_count": 12,
     "metadata": {},
     "output_type": "execute_result"
    }
   ],
   "source": [
    "carriers=pd.read_csv('carriers.csv')\n",
    "carriers\n",
    "#the code with the name of the airlines"
   ]
  },
  {
   "cell_type": "code",
   "execution_count": 13,
   "metadata": {},
   "outputs": [
    {
     "data": {
      "text/html": [
       "<div>\n",
       "<style scoped>\n",
       "    .dataframe tbody tr th:only-of-type {\n",
       "        vertical-align: middle;\n",
       "    }\n",
       "\n",
       "    .dataframe tbody tr th {\n",
       "        vertical-align: top;\n",
       "    }\n",
       "\n",
       "    .dataframe thead th {\n",
       "        text-align: right;\n",
       "    }\n",
       "</style>\n",
       "<table border=\"1\" class=\"dataframe\">\n",
       "  <thead>\n",
       "    <tr style=\"text-align: right;\">\n",
       "      <th></th>\n",
       "      <th>YEAR</th>\n",
       "      <th>MONTH</th>\n",
       "      <th>DAY_OF_MONTH</th>\n",
       "      <th>DAY_OF_WEEK</th>\n",
       "      <th>OP_UNIQUE_CARRIER</th>\n",
       "      <th>TAIL_NUM</th>\n",
       "      <th>OP_CARRIER_FL_NUM</th>\n",
       "      <th>ORIGIN</th>\n",
       "      <th>DEST</th>\n",
       "      <th>CRS_DEP_TIME</th>\n",
       "      <th>...</th>\n",
       "      <th>CRS_ELAPSED_TIME</th>\n",
       "      <th>ACTUAL_ELAPSED_TIME</th>\n",
       "      <th>AIR_TIME</th>\n",
       "      <th>DISTANCE</th>\n",
       "      <th>CARRIER_DELAY</th>\n",
       "      <th>WEATHER_DELAY</th>\n",
       "      <th>NAS_DELAY</th>\n",
       "      <th>SECURITY_DELAY</th>\n",
       "      <th>LATE_AIRCRAFT_DELAY</th>\n",
       "      <th>Unnamed: 29</th>\n",
       "    </tr>\n",
       "  </thead>\n",
       "  <tbody>\n",
       "    <tr>\n",
       "      <th>352189</th>\n",
       "      <td>2008</td>\n",
       "      <td>1</td>\n",
       "      <td>27</td>\n",
       "      <td>7</td>\n",
       "      <td>DL</td>\n",
       "      <td>N832MH</td>\n",
       "      <td>1282</td>\n",
       "      <td>HNL</td>\n",
       "      <td>ATL</td>\n",
       "      <td>1635</td>\n",
       "      <td>...</td>\n",
       "      <td>512.0</td>\n",
       "      <td>111.0</td>\n",
       "      <td>86.0</td>\n",
       "      <td>4502.0</td>\n",
       "      <td>0.0</td>\n",
       "      <td>0.0</td>\n",
       "      <td>5.0</td>\n",
       "      <td>0.0</td>\n",
       "      <td>0.0</td>\n",
       "      <td>NaN</td>\n",
       "    </tr>\n",
       "  </tbody>\n",
       "</table>\n",
       "<p>1 rows × 30 columns</p>\n",
       "</div>"
      ],
      "text/plain": [
       "        YEAR  MONTH  DAY_OF_MONTH  DAY_OF_WEEK OP_UNIQUE_CARRIER TAIL_NUM  \\\n",
       "352189  2008      1            27            7                DL   N832MH   \n",
       "\n",
       "        OP_CARRIER_FL_NUM ORIGIN DEST  CRS_DEP_TIME  ...  CRS_ELAPSED_TIME  \\\n",
       "352189               1282    HNL  ATL          1635  ...             512.0   \n",
       "\n",
       "        ACTUAL_ELAPSED_TIME  AIR_TIME  DISTANCE  CARRIER_DELAY  WEATHER_DELAY  \\\n",
       "352189                111.0      86.0    4502.0            0.0            0.0   \n",
       "\n",
       "        NAS_DELAY  SECURITY_DELAY LATE_AIRCRAFT_DELAY  Unnamed: 29  \n",
       "352189        5.0             0.0                 0.0          NaN  \n",
       "\n",
       "[1 rows x 30 columns]"
      ]
     },
     "execution_count": 13,
     "metadata": {},
     "output_type": "execute_result"
    }
   ],
   "source": [
    "# when we have cancellation and the distaces between two airports is more than 4000 meter(only Atlanta )\n",
    "airlines[(airlines['CANCELLED']==1)& (airlines['DISTANCE']>4000)]"
   ]
  },
  {
   "cell_type": "code",
   "execution_count": 14,
   "metadata": {},
   "outputs": [
    {
     "data": {
      "text/html": [
       "<div>\n",
       "<style scoped>\n",
       "    .dataframe tbody tr th:only-of-type {\n",
       "        vertical-align: middle;\n",
       "    }\n",
       "\n",
       "    .dataframe tbody tr th {\n",
       "        vertical-align: top;\n",
       "    }\n",
       "\n",
       "    .dataframe thead th {\n",
       "        text-align: right;\n",
       "    }\n",
       "</style>\n",
       "<table border=\"1\" class=\"dataframe\">\n",
       "  <thead>\n",
       "    <tr style=\"text-align: right;\">\n",
       "      <th></th>\n",
       "      <th>YEAR</th>\n",
       "      <th>MONTH</th>\n",
       "      <th>DAY_OF_MONTH</th>\n",
       "      <th>DAY_OF_WEEK</th>\n",
       "      <th>OP_UNIQUE_CARRIER</th>\n",
       "      <th>TAIL_NUM</th>\n",
       "      <th>OP_CARRIER_FL_NUM</th>\n",
       "      <th>ORIGIN</th>\n",
       "      <th>DEST</th>\n",
       "      <th>CRS_DEP_TIME</th>\n",
       "      <th>...</th>\n",
       "      <th>CRS_ELAPSED_TIME</th>\n",
       "      <th>ACTUAL_ELAPSED_TIME</th>\n",
       "      <th>AIR_TIME</th>\n",
       "      <th>DISTANCE</th>\n",
       "      <th>CARRIER_DELAY</th>\n",
       "      <th>WEATHER_DELAY</th>\n",
       "      <th>NAS_DELAY</th>\n",
       "      <th>SECURITY_DELAY</th>\n",
       "      <th>LATE_AIRCRAFT_DELAY</th>\n",
       "      <th>Unnamed: 29</th>\n",
       "    </tr>\n",
       "  </thead>\n",
       "  <tbody>\n",
       "    <tr>\n",
       "      <th>1496</th>\n",
       "      <td>2008</td>\n",
       "      <td>1</td>\n",
       "      <td>30</td>\n",
       "      <td>3</td>\n",
       "      <td>9E</td>\n",
       "      <td>88369E</td>\n",
       "      <td>3756</td>\n",
       "      <td>DTW</td>\n",
       "      <td>BUF</td>\n",
       "      <td>1013</td>\n",
       "      <td>...</td>\n",
       "      <td>111.0</td>\n",
       "      <td>111.0</td>\n",
       "      <td>86.0</td>\n",
       "      <td>240.0</td>\n",
       "      <td>0.0</td>\n",
       "      <td>0.0</td>\n",
       "      <td>5.0</td>\n",
       "      <td>0.0</td>\n",
       "      <td>0.0</td>\n",
       "      <td>NaN</td>\n",
       "    </tr>\n",
       "    <tr>\n",
       "      <th>5777</th>\n",
       "      <td>2008</td>\n",
       "      <td>1</td>\n",
       "      <td>27</td>\n",
       "      <td>7</td>\n",
       "      <td>9E</td>\n",
       "      <td>89649E</td>\n",
       "      <td>5955</td>\n",
       "      <td>SGF</td>\n",
       "      <td>MEM</td>\n",
       "      <td>640</td>\n",
       "      <td>...</td>\n",
       "      <td>111.0</td>\n",
       "      <td>111.0</td>\n",
       "      <td>86.0</td>\n",
       "      <td>243.0</td>\n",
       "      <td>0.0</td>\n",
       "      <td>0.0</td>\n",
       "      <td>5.0</td>\n",
       "      <td>0.0</td>\n",
       "      <td>0.0</td>\n",
       "      <td>NaN</td>\n",
       "    </tr>\n",
       "    <tr>\n",
       "      <th>6149</th>\n",
       "      <td>2008</td>\n",
       "      <td>1</td>\n",
       "      <td>26</td>\n",
       "      <td>6</td>\n",
       "      <td>9E</td>\n",
       "      <td>84779E</td>\n",
       "      <td>5965</td>\n",
       "      <td>MEM</td>\n",
       "      <td>XNA</td>\n",
       "      <td>1935</td>\n",
       "      <td>...</td>\n",
       "      <td>111.0</td>\n",
       "      <td>111.0</td>\n",
       "      <td>86.0</td>\n",
       "      <td>258.0</td>\n",
       "      <td>0.0</td>\n",
       "      <td>0.0</td>\n",
       "      <td>5.0</td>\n",
       "      <td>0.0</td>\n",
       "      <td>0.0</td>\n",
       "      <td>NaN</td>\n",
       "    </tr>\n",
       "    <tr>\n",
       "      <th>34753</th>\n",
       "      <td>2008</td>\n",
       "      <td>1</td>\n",
       "      <td>10</td>\n",
       "      <td>4</td>\n",
       "      <td>MQ</td>\n",
       "      <td>N323AE</td>\n",
       "      <td>3011</td>\n",
       "      <td>LAX</td>\n",
       "      <td>FAT</td>\n",
       "      <td>815</td>\n",
       "      <td>...</td>\n",
       "      <td>74.0</td>\n",
       "      <td>111.0</td>\n",
       "      <td>86.0</td>\n",
       "      <td>209.0</td>\n",
       "      <td>0.0</td>\n",
       "      <td>0.0</td>\n",
       "      <td>5.0</td>\n",
       "      <td>0.0</td>\n",
       "      <td>0.0</td>\n",
       "      <td>NaN</td>\n",
       "    </tr>\n",
       "    <tr>\n",
       "      <th>34791</th>\n",
       "      <td>2008</td>\n",
       "      <td>1</td>\n",
       "      <td>15</td>\n",
       "      <td>2</td>\n",
       "      <td>MQ</td>\n",
       "      <td>N240DS</td>\n",
       "      <td>3013</td>\n",
       "      <td>LAX</td>\n",
       "      <td>FAT</td>\n",
       "      <td>1000</td>\n",
       "      <td>...</td>\n",
       "      <td>47.0</td>\n",
       "      <td>111.0</td>\n",
       "      <td>86.0</td>\n",
       "      <td>209.0</td>\n",
       "      <td>0.0</td>\n",
       "      <td>0.0</td>\n",
       "      <td>5.0</td>\n",
       "      <td>0.0</td>\n",
       "      <td>0.0</td>\n",
       "      <td>NaN</td>\n",
       "    </tr>\n",
       "    <tr>\n",
       "      <th>...</th>\n",
       "      <td>...</td>\n",
       "      <td>...</td>\n",
       "      <td>...</td>\n",
       "      <td>...</td>\n",
       "      <td>...</td>\n",
       "      <td>...</td>\n",
       "      <td>...</td>\n",
       "      <td>...</td>\n",
       "      <td>...</td>\n",
       "      <td>...</td>\n",
       "      <td>...</td>\n",
       "      <td>...</td>\n",
       "      <td>...</td>\n",
       "      <td>...</td>\n",
       "      <td>...</td>\n",
       "      <td>...</td>\n",
       "      <td>...</td>\n",
       "      <td>...</td>\n",
       "      <td>...</td>\n",
       "      <td>...</td>\n",
       "      <td>...</td>\n",
       "    </tr>\n",
       "    <tr>\n",
       "      <th>596168</th>\n",
       "      <td>2008</td>\n",
       "      <td>1</td>\n",
       "      <td>31</td>\n",
       "      <td>4</td>\n",
       "      <td>WN</td>\n",
       "      <td>N340LV</td>\n",
       "      <td>1330</td>\n",
       "      <td>STL</td>\n",
       "      <td>MDW</td>\n",
       "      <td>1225</td>\n",
       "      <td>...</td>\n",
       "      <td>60.0</td>\n",
       "      <td>111.0</td>\n",
       "      <td>86.0</td>\n",
       "      <td>251.0</td>\n",
       "      <td>0.0</td>\n",
       "      <td>0.0</td>\n",
       "      <td>5.0</td>\n",
       "      <td>0.0</td>\n",
       "      <td>0.0</td>\n",
       "      <td>NaN</td>\n",
       "    </tr>\n",
       "    <tr>\n",
       "      <th>597045</th>\n",
       "      <td>2008</td>\n",
       "      <td>1</td>\n",
       "      <td>29</td>\n",
       "      <td>2</td>\n",
       "      <td>XE</td>\n",
       "      <td>N13550</td>\n",
       "      <td>125</td>\n",
       "      <td>SAN</td>\n",
       "      <td>ONT</td>\n",
       "      <td>2136</td>\n",
       "      <td>...</td>\n",
       "      <td>20.0</td>\n",
       "      <td>111.0</td>\n",
       "      <td>86.0</td>\n",
       "      <td>94.0</td>\n",
       "      <td>0.0</td>\n",
       "      <td>0.0</td>\n",
       "      <td>5.0</td>\n",
       "      <td>0.0</td>\n",
       "      <td>0.0</td>\n",
       "      <td>NaN</td>\n",
       "    </tr>\n",
       "    <tr>\n",
       "      <th>598415</th>\n",
       "      <td>2008</td>\n",
       "      <td>1</td>\n",
       "      <td>5</td>\n",
       "      <td>6</td>\n",
       "      <td>XE</td>\n",
       "      <td>N12163</td>\n",
       "      <td>224</td>\n",
       "      <td>SAT</td>\n",
       "      <td>AUS</td>\n",
       "      <td>1655</td>\n",
       "      <td>...</td>\n",
       "      <td>17.0</td>\n",
       "      <td>111.0</td>\n",
       "      <td>86.0</td>\n",
       "      <td>66.0</td>\n",
       "      <td>0.0</td>\n",
       "      <td>0.0</td>\n",
       "      <td>5.0</td>\n",
       "      <td>0.0</td>\n",
       "      <td>0.0</td>\n",
       "      <td>NaN</td>\n",
       "    </tr>\n",
       "    <tr>\n",
       "      <th>599283</th>\n",
       "      <td>2008</td>\n",
       "      <td>1</td>\n",
       "      <td>24</td>\n",
       "      <td>4</td>\n",
       "      <td>XE</td>\n",
       "      <td>N14204</td>\n",
       "      <td>321</td>\n",
       "      <td>TUL</td>\n",
       "      <td>OKC</td>\n",
       "      <td>1835</td>\n",
       "      <td>...</td>\n",
       "      <td>25.0</td>\n",
       "      <td>111.0</td>\n",
       "      <td>86.0</td>\n",
       "      <td>111.0</td>\n",
       "      <td>0.0</td>\n",
       "      <td>0.0</td>\n",
       "      <td>5.0</td>\n",
       "      <td>0.0</td>\n",
       "      <td>0.0</td>\n",
       "      <td>NaN</td>\n",
       "    </tr>\n",
       "    <tr>\n",
       "      <th>602724</th>\n",
       "      <td>2008</td>\n",
       "      <td>1</td>\n",
       "      <td>15</td>\n",
       "      <td>2</td>\n",
       "      <td>XE</td>\n",
       "      <td>N14916</td>\n",
       "      <td>2760</td>\n",
       "      <td>IAH</td>\n",
       "      <td>HRL</td>\n",
       "      <td>2125</td>\n",
       "      <td>...</td>\n",
       "      <td>72.0</td>\n",
       "      <td>111.0</td>\n",
       "      <td>86.0</td>\n",
       "      <td>295.0</td>\n",
       "      <td>0.0</td>\n",
       "      <td>0.0</td>\n",
       "      <td>5.0</td>\n",
       "      <td>0.0</td>\n",
       "      <td>0.0</td>\n",
       "      <td>NaN</td>\n",
       "    </tr>\n",
       "  </tbody>\n",
       "</table>\n",
       "<p>204 rows × 30 columns</p>\n",
       "</div>"
      ],
      "text/plain": [
       "        YEAR  MONTH  DAY_OF_MONTH  DAY_OF_WEEK OP_UNIQUE_CARRIER TAIL_NUM  \\\n",
       "1496    2008      1            30            3                9E   88369E   \n",
       "5777    2008      1            27            7                9E   89649E   \n",
       "6149    2008      1            26            6                9E   84779E   \n",
       "34753   2008      1            10            4                MQ   N323AE   \n",
       "34791   2008      1            15            2                MQ   N240DS   \n",
       "...      ...    ...           ...          ...               ...      ...   \n",
       "596168  2008      1            31            4                WN   N340LV   \n",
       "597045  2008      1            29            2                XE   N13550   \n",
       "598415  2008      1             5            6                XE   N12163   \n",
       "599283  2008      1            24            4                XE   N14204   \n",
       "602724  2008      1            15            2                XE   N14916   \n",
       "\n",
       "        OP_CARRIER_FL_NUM ORIGIN DEST  CRS_DEP_TIME  ...  CRS_ELAPSED_TIME  \\\n",
       "1496                 3756    DTW  BUF          1013  ...             111.0   \n",
       "5777                 5955    SGF  MEM           640  ...             111.0   \n",
       "6149                 5965    MEM  XNA          1935  ...             111.0   \n",
       "34753                3011    LAX  FAT           815  ...              74.0   \n",
       "34791                3013    LAX  FAT          1000  ...              47.0   \n",
       "...                   ...    ...  ...           ...  ...               ...   \n",
       "596168               1330    STL  MDW          1225  ...              60.0   \n",
       "597045                125    SAN  ONT          2136  ...              20.0   \n",
       "598415                224    SAT  AUS          1655  ...              17.0   \n",
       "599283                321    TUL  OKC          1835  ...              25.0   \n",
       "602724               2760    IAH  HRL          2125  ...              72.0   \n",
       "\n",
       "        ACTUAL_ELAPSED_TIME  AIR_TIME  DISTANCE  CARRIER_DELAY  WEATHER_DELAY  \\\n",
       "1496                  111.0      86.0     240.0            0.0            0.0   \n",
       "5777                  111.0      86.0     243.0            0.0            0.0   \n",
       "6149                  111.0      86.0     258.0            0.0            0.0   \n",
       "34753                 111.0      86.0     209.0            0.0            0.0   \n",
       "34791                 111.0      86.0     209.0            0.0            0.0   \n",
       "...                     ...       ...       ...            ...            ...   \n",
       "596168                111.0      86.0     251.0            0.0            0.0   \n",
       "597045                111.0      86.0      94.0            0.0            0.0   \n",
       "598415                111.0      86.0      66.0            0.0            0.0   \n",
       "599283                111.0      86.0     111.0            0.0            0.0   \n",
       "602724                111.0      86.0     295.0            0.0            0.0   \n",
       "\n",
       "        NAS_DELAY  SECURITY_DELAY LATE_AIRCRAFT_DELAY  Unnamed: 29  \n",
       "1496          5.0             0.0                 0.0          NaN  \n",
       "5777          5.0             0.0                 0.0          NaN  \n",
       "6149          5.0             0.0                 0.0          NaN  \n",
       "34753         5.0             0.0                 0.0          NaN  \n",
       "34791         5.0             0.0                 0.0          NaN  \n",
       "...           ...             ...                 ...          ...  \n",
       "596168        5.0             0.0                 0.0          NaN  \n",
       "597045        5.0             0.0                 0.0          NaN  \n",
       "598415        5.0             0.0                 0.0          NaN  \n",
       "599283        5.0             0.0                 0.0          NaN  \n",
       "602724        5.0             0.0                 0.0          NaN  \n",
       "\n",
       "[204 rows x 30 columns]"
      ]
     },
     "execution_count": 14,
     "metadata": {},
     "output_type": "execute_result"
    }
   ],
   "source": [
    "# we use filter with diverted (yes=1)and when  Distance between airports is less than 300(miles)\n",
    "airlines[(airlines['DIVERTED']==1)& (airlines['DISTANCE']<300)]"
   ]
  },
  {
   "cell_type": "code",
   "execution_count": 15,
   "metadata": {},
   "outputs": [
    {
     "data": {
      "text/html": [
       "<div>\n",
       "<style scoped>\n",
       "    .dataframe tbody tr th:only-of-type {\n",
       "        vertical-align: middle;\n",
       "    }\n",
       "\n",
       "    .dataframe tbody tr th {\n",
       "        vertical-align: top;\n",
       "    }\n",
       "\n",
       "    .dataframe thead th {\n",
       "        text-align: right;\n",
       "    }\n",
       "</style>\n",
       "<table border=\"1\" class=\"dataframe\">\n",
       "  <thead>\n",
       "    <tr style=\"text-align: right;\">\n",
       "      <th>DEST</th>\n",
       "      <th>ABE</th>\n",
       "      <th>ABI</th>\n",
       "      <th>ABQ</th>\n",
       "      <th>ABY</th>\n",
       "      <th>ACT</th>\n",
       "      <th>ACV</th>\n",
       "      <th>ACY</th>\n",
       "      <th>ADK</th>\n",
       "      <th>ADQ</th>\n",
       "      <th>AEX</th>\n",
       "      <th>...</th>\n",
       "      <th>TXK</th>\n",
       "      <th>TYR</th>\n",
       "      <th>TYS</th>\n",
       "      <th>VLD</th>\n",
       "      <th>VPS</th>\n",
       "      <th>WRG</th>\n",
       "      <th>XNA</th>\n",
       "      <th>YAK</th>\n",
       "      <th>YKM</th>\n",
       "      <th>YUM</th>\n",
       "    </tr>\n",
       "    <tr>\n",
       "      <th>CANCELLATION_CODE</th>\n",
       "      <th></th>\n",
       "      <th></th>\n",
       "      <th></th>\n",
       "      <th></th>\n",
       "      <th></th>\n",
       "      <th></th>\n",
       "      <th></th>\n",
       "      <th></th>\n",
       "      <th></th>\n",
       "      <th></th>\n",
       "      <th></th>\n",
       "      <th></th>\n",
       "      <th></th>\n",
       "      <th></th>\n",
       "      <th></th>\n",
       "      <th></th>\n",
       "      <th></th>\n",
       "      <th></th>\n",
       "      <th></th>\n",
       "      <th></th>\n",
       "      <th></th>\n",
       "    </tr>\n",
       "  </thead>\n",
       "  <tbody>\n",
       "    <tr>\n",
       "      <th>A</th>\n",
       "      <td>12</td>\n",
       "      <td>0</td>\n",
       "      <td>23</td>\n",
       "      <td>0</td>\n",
       "      <td>0</td>\n",
       "      <td>1</td>\n",
       "      <td>0</td>\n",
       "      <td>0</td>\n",
       "      <td>2</td>\n",
       "      <td>1</td>\n",
       "      <td>...</td>\n",
       "      <td>4</td>\n",
       "      <td>2</td>\n",
       "      <td>10</td>\n",
       "      <td>0</td>\n",
       "      <td>2</td>\n",
       "      <td>0</td>\n",
       "      <td>24</td>\n",
       "      <td>3</td>\n",
       "      <td>0</td>\n",
       "      <td>5</td>\n",
       "    </tr>\n",
       "    <tr>\n",
       "      <th>B</th>\n",
       "      <td>3</td>\n",
       "      <td>7</td>\n",
       "      <td>9</td>\n",
       "      <td>5</td>\n",
       "      <td>9</td>\n",
       "      <td>7</td>\n",
       "      <td>2</td>\n",
       "      <td>0</td>\n",
       "      <td>3</td>\n",
       "      <td>8</td>\n",
       "      <td>...</td>\n",
       "      <td>9</td>\n",
       "      <td>7</td>\n",
       "      <td>13</td>\n",
       "      <td>3</td>\n",
       "      <td>11</td>\n",
       "      <td>2</td>\n",
       "      <td>16</td>\n",
       "      <td>1</td>\n",
       "      <td>1</td>\n",
       "      <td>0</td>\n",
       "    </tr>\n",
       "    <tr>\n",
       "      <th>C</th>\n",
       "      <td>8</td>\n",
       "      <td>0</td>\n",
       "      <td>3</td>\n",
       "      <td>0</td>\n",
       "      <td>1</td>\n",
       "      <td>20</td>\n",
       "      <td>0</td>\n",
       "      <td>0</td>\n",
       "      <td>0</td>\n",
       "      <td>0</td>\n",
       "      <td>...</td>\n",
       "      <td>0</td>\n",
       "      <td>0</td>\n",
       "      <td>4</td>\n",
       "      <td>0</td>\n",
       "      <td>1</td>\n",
       "      <td>0</td>\n",
       "      <td>21</td>\n",
       "      <td>0</td>\n",
       "      <td>0</td>\n",
       "      <td>1</td>\n",
       "    </tr>\n",
       "    <tr>\n",
       "      <th>D</th>\n",
       "      <td>393</td>\n",
       "      <td>233</td>\n",
       "      <td>3411</td>\n",
       "      <td>97</td>\n",
       "      <td>199</td>\n",
       "      <td>271</td>\n",
       "      <td>29</td>\n",
       "      <td>9</td>\n",
       "      <td>57</td>\n",
       "      <td>197</td>\n",
       "      <td>...</td>\n",
       "      <td>111</td>\n",
       "      <td>145</td>\n",
       "      <td>992</td>\n",
       "      <td>79</td>\n",
       "      <td>558</td>\n",
       "      <td>60</td>\n",
       "      <td>1138</td>\n",
       "      <td>58</td>\n",
       "      <td>31</td>\n",
       "      <td>375</td>\n",
       "    </tr>\n",
       "  </tbody>\n",
       "</table>\n",
       "<p>4 rows × 287 columns</p>\n",
       "</div>"
      ],
      "text/plain": [
       "DEST               ABE  ABI   ABQ  ABY  ACT  ACV  ACY  ADK  ADQ  AEX  ...  \\\n",
       "CANCELLATION_CODE                                                     ...   \n",
       "A                   12    0    23    0    0    1    0    0    2    1  ...   \n",
       "B                    3    7     9    5    9    7    2    0    3    8  ...   \n",
       "C                    8    0     3    0    1   20    0    0    0    0  ...   \n",
       "D                  393  233  3411   97  199  271   29    9   57  197  ...   \n",
       "\n",
       "DEST               TXK  TYR  TYS  VLD  VPS  WRG   XNA  YAK  YKM  YUM  \n",
       "CANCELLATION_CODE                                                     \n",
       "A                    4    2   10    0    2    0    24    3    0    5  \n",
       "B                    9    7   13    3   11    2    16    1    1    0  \n",
       "C                    0    0    4    0    1    0    21    0    0    1  \n",
       "D                  111  145  992   79  558   60  1138   58   31  375  \n",
       "\n",
       "[4 rows x 287 columns]"
      ]
     },
     "execution_count": 15,
     "metadata": {},
     "output_type": "execute_result"
    }
   ],
   "source": [
    "airlines['CANCELLATION_CODE'].unique()\n",
    "CANCELLATION_CODE_DEST=pd.crosstab(airlines['CANCELLATION_CODE'],airlines['DEST'])\n",
    "CANCELLATION_CODE_DEST"
   ]
  },
  {
   "cell_type": "code",
   "execution_count": 16,
   "metadata": {},
   "outputs": [
    {
     "data": {
      "text/html": [
       "<div>\n",
       "<style scoped>\n",
       "    .dataframe tbody tr th:only-of-type {\n",
       "        vertical-align: middle;\n",
       "    }\n",
       "\n",
       "    .dataframe tbody tr th {\n",
       "        vertical-align: top;\n",
       "    }\n",
       "\n",
       "    .dataframe thead th {\n",
       "        text-align: right;\n",
       "    }\n",
       "</style>\n",
       "<table border=\"1\" class=\"dataframe\">\n",
       "  <thead>\n",
       "    <tr style=\"text-align: right;\">\n",
       "      <th>CANCELLATION_CODE</th>\n",
       "      <th>A</th>\n",
       "      <th>B</th>\n",
       "      <th>C</th>\n",
       "      <th>D</th>\n",
       "    </tr>\n",
       "    <tr>\n",
       "      <th>DIVERTED</th>\n",
       "      <th></th>\n",
       "      <th></th>\n",
       "      <th></th>\n",
       "      <th></th>\n",
       "    </tr>\n",
       "  </thead>\n",
       "  <tbody>\n",
       "    <tr>\n",
       "      <th>0.0</th>\n",
       "      <td>6635</td>\n",
       "      <td>6711</td>\n",
       "      <td>3962</td>\n",
       "      <td>587130</td>\n",
       "    </tr>\n",
       "    <tr>\n",
       "      <th>1.0</th>\n",
       "      <td>0</td>\n",
       "      <td>0</td>\n",
       "      <td>0</td>\n",
       "      <td>1327</td>\n",
       "    </tr>\n",
       "  </tbody>\n",
       "</table>\n",
       "</div>"
      ],
      "text/plain": [
       "CANCELLATION_CODE     A     B     C       D\n",
       "DIVERTED                                   \n",
       "0.0                6635  6711  3962  587130\n",
       "1.0                   0     0     0    1327"
      ]
     },
     "execution_count": 16,
     "metadata": {},
     "output_type": "execute_result"
    }
   ],
   "source": [
    "airlines['DIVERTED'].unique()\n",
    "DIVERTED_CANCELLATION_CODE=pd.crosstab(airlines['DIVERTED'],airlines['CANCELLATION_CODE'])\n",
    "DIVERTED_CANCELLATION_CODE\n",
    "# As you see, if the Diverted Flight Indicator is 1=yes, the reason for cancellation is weather"
   ]
  },
  {
   "cell_type": "code",
   "execution_count": 17,
   "metadata": {
    "scrolled": true
   },
   "outputs": [
    {
     "data": {
      "text/html": [
       "<div>\n",
       "<style scoped>\n",
       "    .dataframe tbody tr th:only-of-type {\n",
       "        vertical-align: middle;\n",
       "    }\n",
       "\n",
       "    .dataframe tbody tr th {\n",
       "        vertical-align: top;\n",
       "    }\n",
       "\n",
       "    .dataframe thead th {\n",
       "        text-align: right;\n",
       "    }\n",
       "</style>\n",
       "<table border=\"1\" class=\"dataframe\">\n",
       "  <thead>\n",
       "    <tr style=\"text-align: right;\">\n",
       "      <th></th>\n",
       "      <th>DEST</th>\n",
       "      <th>ARR_DELAY_SUM</th>\n",
       "      <th>ARR_DELAY_CNT</th>\n",
       "      <th>AVG_ARR_DELAY</th>\n",
       "    </tr>\n",
       "  </thead>\n",
       "  <tbody>\n",
       "    <tr>\n",
       "      <th>199</th>\n",
       "      <td>ORD</td>\n",
       "      <td>838358.0</td>\n",
       "      <td>29936</td>\n",
       "      <td>28.005011</td>\n",
       "    </tr>\n",
       "    <tr>\n",
       "      <th>244</th>\n",
       "      <td>SFO</td>\n",
       "      <td>387248.0</td>\n",
       "      <td>11560</td>\n",
       "      <td>33.498962</td>\n",
       "    </tr>\n",
       "    <tr>\n",
       "      <th>148</th>\n",
       "      <td>LAX</td>\n",
       "      <td>257506.0</td>\n",
       "      <td>18964</td>\n",
       "      <td>13.578675</td>\n",
       "    </tr>\n",
       "    <tr>\n",
       "      <th>78</th>\n",
       "      <td>DFW</td>\n",
       "      <td>211761.0</td>\n",
       "      <td>23874</td>\n",
       "      <td>8.869942</td>\n",
       "    </tr>\n",
       "    <tr>\n",
       "      <th>16</th>\n",
       "      <td>ATL</td>\n",
       "      <td>208002.0</td>\n",
       "      <td>33881</td>\n",
       "      <td>6.139193</td>\n",
       "    </tr>\n",
       "    <tr>\n",
       "      <th>...</th>\n",
       "      <td>...</td>\n",
       "      <td>...</td>\n",
       "      <td>...</td>\n",
       "      <td>...</td>\n",
       "    </tr>\n",
       "    <tr>\n",
       "      <th>66</th>\n",
       "      <td>CPR</td>\n",
       "      <td>-219.0</td>\n",
       "      <td>301</td>\n",
       "      <td>-0.727575</td>\n",
       "    </tr>\n",
       "    <tr>\n",
       "      <th>216</th>\n",
       "      <td>PSE</td>\n",
       "      <td>-305.0</td>\n",
       "      <td>109</td>\n",
       "      <td>-2.798165</td>\n",
       "    </tr>\n",
       "    <tr>\n",
       "      <th>194</th>\n",
       "      <td>OGG</td>\n",
       "      <td>-1510.0</td>\n",
       "      <td>2078</td>\n",
       "      <td>-0.726660</td>\n",
       "    </tr>\n",
       "    <tr>\n",
       "      <th>136</th>\n",
       "      <td>ITO</td>\n",
       "      <td>-1866.0</td>\n",
       "      <td>786</td>\n",
       "      <td>-2.374046</td>\n",
       "    </tr>\n",
       "    <tr>\n",
       "      <th>155</th>\n",
       "      <td>LIH</td>\n",
       "      <td>-4084.0</td>\n",
       "      <td>1372</td>\n",
       "      <td>-2.976676</td>\n",
       "    </tr>\n",
       "  </tbody>\n",
       "</table>\n",
       "<p>287 rows × 4 columns</p>\n",
       "</div>"
      ],
      "text/plain": [
       "    DEST  ARR_DELAY_SUM  ARR_DELAY_CNT  AVG_ARR_DELAY\n",
       "199  ORD       838358.0          29936      28.005011\n",
       "244  SFO       387248.0          11560      33.498962\n",
       "148  LAX       257506.0          18964      13.578675\n",
       "78   DFW       211761.0          23874       8.869942\n",
       "16   ATL       208002.0          33881       6.139193\n",
       "..   ...            ...            ...            ...\n",
       "66   CPR         -219.0            301      -0.727575\n",
       "216  PSE         -305.0            109      -2.798165\n",
       "194  OGG        -1510.0           2078      -0.726660\n",
       "136  ITO        -1866.0            786      -2.374046\n",
       "155  LIH        -4084.0           1372      -2.976676\n",
       "\n",
       "[287 rows x 4 columns]"
      ]
     },
     "execution_count": 17,
     "metadata": {},
     "output_type": "execute_result"
    }
   ],
   "source": [
    "# we use the groupby with sum, count and delay part for ARR_DELAY with Destination\n",
    "airlines_grouped_sum = airlines.groupby('DEST', as_index= False)['ARR_DELAY'].agg('sum').rename(columns={\"ARR_DELAY\":\"ARR_DELAY_SUM\"})\n",
    "airlines_grouped_cnt = airlines.groupby('DEST', as_index= False)['ARR_DELAY'].agg('count').rename(columns={\"ARR_DELAY\":\"ARR_DELAY_CNT\"})\n",
    "# Merge the two groups together\n",
    "airlines_grouped_delay = airlines_grouped_sum.merge(airlines_grouped_cnt, left_on='DEST', right_on='DEST', how='inner')\n",
    "\n",
    "# Calculate the average delay per destination\n",
    "airlines_grouped_delay.loc[:,'AVG_ARR_DELAY'] = airlines_grouped_delay['ARR_DELAY_SUM'] /airlines_grouped_delay['ARR_DELAY_CNT']\n",
    "\n",
    "airlines_grouped_delay.sort_values('ARR_DELAY_SUM', ascending=False)"
   ]
  },
  {
   "cell_type": "raw",
   "metadata": {},
   "source": [
    "In conclusion, ABE  has the smallest average of delay in the destination(AVG_ARR_DELAY==-6.29032). On the other hand , YUM Destination has a lot of huge delays in single flights which effects the total delay of the airline,\n",
    "(alomost AVG_ARR_DELAY ==64.7294 and for sum is 838358.I used max and min in the last piece of code to figure out ."
   ]
  },
  {
   "cell_type": "code",
   "execution_count": 18,
   "metadata": {},
   "outputs": [
    {
     "data": {
      "text/html": [
       "<div>\n",
       "<style scoped>\n",
       "    .dataframe tbody tr th:only-of-type {\n",
       "        vertical-align: middle;\n",
       "    }\n",
       "\n",
       "    .dataframe tbody tr th {\n",
       "        vertical-align: top;\n",
       "    }\n",
       "\n",
       "    .dataframe thead th {\n",
       "        text-align: right;\n",
       "    }\n",
       "</style>\n",
       "<table border=\"1\" class=\"dataframe\">\n",
       "  <thead>\n",
       "    <tr style=\"text-align: right;\">\n",
       "      <th></th>\n",
       "      <th>ARR_TIME</th>\n",
       "    </tr>\n",
       "    <tr>\n",
       "      <th>DEST</th>\n",
       "      <th></th>\n",
       "    </tr>\n",
       "  </thead>\n",
       "  <tbody>\n",
       "    <tr>\n",
       "      <th>ABE</th>\n",
       "      <td>1775.615385</td>\n",
       "    </tr>\n",
       "    <tr>\n",
       "      <th>ABI</th>\n",
       "      <td>1744.191667</td>\n",
       "    </tr>\n",
       "    <tr>\n",
       "      <th>ABQ</th>\n",
       "      <td>1501.047882</td>\n",
       "    </tr>\n",
       "    <tr>\n",
       "      <th>ABY</th>\n",
       "      <td>1576.176471</td>\n",
       "    </tr>\n",
       "    <tr>\n",
       "      <th>ACT</th>\n",
       "      <td>1478.200957</td>\n",
       "    </tr>\n",
       "    <tr>\n",
       "      <th>ACV</th>\n",
       "      <td>1467.809365</td>\n",
       "    </tr>\n",
       "    <tr>\n",
       "      <th>ACY</th>\n",
       "      <td>2132.161290</td>\n",
       "    </tr>\n",
       "    <tr>\n",
       "      <th>ADK</th>\n",
       "      <td>1651.555556</td>\n",
       "    </tr>\n",
       "    <tr>\n",
       "      <th>ADQ</th>\n",
       "      <td>1309.129032</td>\n",
       "    </tr>\n",
       "    <tr>\n",
       "      <th>AEX</th>\n",
       "      <td>1636.781553</td>\n",
       "    </tr>\n",
       "    <tr>\n",
       "      <th>AGS</th>\n",
       "      <td>1638.566502</td>\n",
       "    </tr>\n",
       "    <tr>\n",
       "      <th>ALB</th>\n",
       "      <td>1623.422731</td>\n",
       "    </tr>\n",
       "    <tr>\n",
       "      <th>ALO</th>\n",
       "      <td>2109.444444</td>\n",
       "    </tr>\n",
       "    <tr>\n",
       "      <th>AMA</th>\n",
       "      <td>1501.264753</td>\n",
       "    </tr>\n",
       "    <tr>\n",
       "      <th>ANC</th>\n",
       "      <td>1348.558052</td>\n",
       "    </tr>\n",
       "    <tr>\n",
       "      <th>ASE</th>\n",
       "      <td>1455.879044</td>\n",
       "    </tr>\n",
       "    <tr>\n",
       "      <th>ATL</th>\n",
       "      <td>1427.143502</td>\n",
       "    </tr>\n",
       "    <tr>\n",
       "      <th>ATW</th>\n",
       "      <td>1624.393365</td>\n",
       "    </tr>\n",
       "    <tr>\n",
       "      <th>AUS</th>\n",
       "      <td>1535.710195</td>\n",
       "    </tr>\n",
       "    <tr>\n",
       "      <th>AVL</th>\n",
       "      <td>1647.007692</td>\n",
       "    </tr>\n",
       "    <tr>\n",
       "      <th>AVP</th>\n",
       "      <td>1789.066038</td>\n",
       "    </tr>\n",
       "    <tr>\n",
       "      <th>AZO</th>\n",
       "      <td>1620.325905</td>\n",
       "    </tr>\n",
       "    <tr>\n",
       "      <th>BDL</th>\n",
       "      <td>1512.706486</td>\n",
       "    </tr>\n",
       "    <tr>\n",
       "      <th>BET</th>\n",
       "      <td>1449.920455</td>\n",
       "    </tr>\n",
       "    <tr>\n",
       "      <th>BFL</th>\n",
       "      <td>1582.497512</td>\n",
       "    </tr>\n",
       "    <tr>\n",
       "      <th>BGM</th>\n",
       "      <td>1924.483871</td>\n",
       "    </tr>\n",
       "    <tr>\n",
       "      <th>BGR</th>\n",
       "      <td>1644.454106</td>\n",
       "    </tr>\n",
       "    <tr>\n",
       "      <th>BHM</th>\n",
       "      <td>1479.708762</td>\n",
       "    </tr>\n",
       "    <tr>\n",
       "      <th>BIL</th>\n",
       "      <td>1562.418283</td>\n",
       "    </tr>\n",
       "    <tr>\n",
       "      <th>BIS</th>\n",
       "      <td>1723.221719</td>\n",
       "    </tr>\n",
       "    <tr>\n",
       "      <th>BLI</th>\n",
       "      <td>2168.129032</td>\n",
       "    </tr>\n",
       "    <tr>\n",
       "      <th>BMI</th>\n",
       "      <td>1545.816143</td>\n",
       "    </tr>\n",
       "    <tr>\n",
       "      <th>BNA</th>\n",
       "      <td>1495.277372</td>\n",
       "    </tr>\n",
       "    <tr>\n",
       "      <th>BOI</th>\n",
       "      <td>1551.611625</td>\n",
       "    </tr>\n",
       "    <tr>\n",
       "      <th>BOS</th>\n",
       "      <td>1472.462780</td>\n",
       "    </tr>\n",
       "  </tbody>\n",
       "</table>\n",
       "</div>"
      ],
      "text/plain": [
       "         ARR_TIME\n",
       "DEST             \n",
       "ABE   1775.615385\n",
       "ABI   1744.191667\n",
       "ABQ   1501.047882\n",
       "ABY   1576.176471\n",
       "ACT   1478.200957\n",
       "ACV   1467.809365\n",
       "ACY   2132.161290\n",
       "ADK   1651.555556\n",
       "ADQ   1309.129032\n",
       "AEX   1636.781553\n",
       "AGS   1638.566502\n",
       "ALB   1623.422731\n",
       "ALO   2109.444444\n",
       "AMA   1501.264753\n",
       "ANC   1348.558052\n",
       "ASE   1455.879044\n",
       "ATL   1427.143502\n",
       "ATW   1624.393365\n",
       "AUS   1535.710195\n",
       "AVL   1647.007692\n",
       "AVP   1789.066038\n",
       "AZO   1620.325905\n",
       "BDL   1512.706486\n",
       "BET   1449.920455\n",
       "BFL   1582.497512\n",
       "BGM   1924.483871\n",
       "BGR   1644.454106\n",
       "BHM   1479.708762\n",
       "BIL   1562.418283\n",
       "BIS   1723.221719\n",
       "BLI   2168.129032\n",
       "BMI   1545.816143\n",
       "BNA   1495.277372\n",
       "BOI   1551.611625\n",
       "BOS   1472.462780"
      ]
     },
     "execution_count": 18,
     "metadata": {},
     "output_type": "execute_result"
    }
   ],
   "source": [
    "pd.pivot_table(airlines,index=['DEST'],values='ARR_TIME')[:35]"
   ]
  },
  {
   "cell_type": "code",
   "execution_count": 19,
   "metadata": {},
   "outputs": [
    {
     "data": {
      "text/html": [
       "<div>\n",
       "<style scoped>\n",
       "    .dataframe tbody tr th:only-of-type {\n",
       "        vertical-align: middle;\n",
       "    }\n",
       "\n",
       "    .dataframe tbody tr th {\n",
       "        vertical-align: top;\n",
       "    }\n",
       "\n",
       "    .dataframe thead th {\n",
       "        text-align: right;\n",
       "    }\n",
       "</style>\n",
       "<table border=\"1\" class=\"dataframe\">\n",
       "  <thead>\n",
       "    <tr style=\"text-align: right;\">\n",
       "      <th>CANCELLATION_CODE</th>\n",
       "      <th>A</th>\n",
       "      <th>B</th>\n",
       "      <th>C</th>\n",
       "      <th>D</th>\n",
       "    </tr>\n",
       "    <tr>\n",
       "      <th>DIVERTED</th>\n",
       "      <th></th>\n",
       "      <th></th>\n",
       "      <th></th>\n",
       "      <th></th>\n",
       "    </tr>\n",
       "  </thead>\n",
       "  <tbody>\n",
       "    <tr>\n",
       "      <th>0.0</th>\n",
       "      <td>6635</td>\n",
       "      <td>6711</td>\n",
       "      <td>3962</td>\n",
       "      <td>587130</td>\n",
       "    </tr>\n",
       "    <tr>\n",
       "      <th>1.0</th>\n",
       "      <td>0</td>\n",
       "      <td>0</td>\n",
       "      <td>0</td>\n",
       "      <td>1327</td>\n",
       "    </tr>\n",
       "  </tbody>\n",
       "</table>\n",
       "</div>"
      ],
      "text/plain": [
       "CANCELLATION_CODE     A     B     C       D\n",
       "DIVERTED                                   \n",
       "0.0                6635  6711  3962  587130\n",
       "1.0                   0     0     0    1327"
      ]
     },
     "execution_count": 19,
     "metadata": {},
     "output_type": "execute_result"
    }
   ],
   "source": [
    "airlines['DIVERTED'].unique()\n",
    "DIVERTED_CANCELLATION_CODE=pd.crosstab(airlines['DIVERTED'],airlines['CANCELLATION_CODE'])\n",
    "DIVERTED_CANCELLATION_CODE\n",
    "# As you see, if the Diverted Flight Indicator is 1=yes, the reason for cancellation is weather"
   ]
  },
  {
   "cell_type": "markdown",
   "metadata": {},
   "source": [
    "# Visualizations (scatter plot, bar graph, histogram, boxplot, subplot, pie chart, heatmap)"
   ]
  },
  {
   "cell_type": "code",
   "execution_count": 20,
   "metadata": {},
   "outputs": [
    {
     "data": {
      "image/png": "[encoded data removed]",
      "text/plain": [
       "<Figure size 720x360 with 1 Axes>"
      ]
     },
     "metadata": {},
     "output_type": "display_data"
    }
   ],
   "source": [
    "# categorized the cities\n",
    "plt.rcParams['figure.figsize']=(10,5)\n",
    "airports['city'].value_counts().sort_values(ascending=False).head(10).plot.pie(y='city',autopct=\"%0.1f%%\")\n",
    "plt.title('The first 10 city with their destinations')\n",
    "plt.axis('off')\n",
    "plt.show()\n",
    "#the Greenville has the high most of amount destination(percantage)"
   ]
  },
  {
   "cell_type": "code",
   "execution_count": 21,
   "metadata": {},
   "outputs": [
    {
     "data": {
      "image/png": "[encoded data removed]",
      "text/plain": [
       "<Figure size 720x432 with 1 Axes>"
      ]
     },
     "metadata": {
      "needs_background": "light"
     },
     "output_type": "display_data"
    }
   ],
   "source": [
    "plt.rcParams['figure.figsize']=(10,6)\n",
    "airports['state'].value_counts().sort_values(ascending=False).head(10).plot.bar(color='orange')\n",
    "plt.title('The first 10 state with their amounts')\n",
    "plt.xlabel('state')\n",
    "plt.ylabel('Counts')\n",
    "plt.show()"
   ]
  },
  {
   "cell_type": "code",
   "execution_count": 22,
   "metadata": {},
   "outputs": [
    {
     "data": {
      "image/png": "[encoded data removed]",
      "text/plain": [
       "<Figure size 720x360 with 1 Axes>"
      ]
     },
     "metadata": {
      "needs_background": "light"
     },
     "output_type": "display_data"
    }
   ],
   "source": [
    "#Top 20 companies with most number of jobs\n",
    "plt.rcParams['figure.figsize']=(10,5)\n",
    "airports['country'].value_counts().sort_values(ascending=False).head(3).plot.bar(color='brown')\n",
    "plt.title('Top 20 country with number of their destinations')\n",
    "plt.xlabel('Companies')\n",
    "plt.ylabel('Counts')\n",
    "plt.show()"
   ]
  },
  {
   "cell_type": "code",
   "execution_count": 23,
   "metadata": {},
   "outputs": [
    {
     "data": {
      "image/png": "[encoded data removed]",
      "text/plain": [
       "<Figure size 720x360 with 1 Axes>"
      ]
     },
     "metadata": {
      "needs_background": "light"
     },
     "output_type": "display_data"
    },
    {
     "data": {
      "text/plain": [
       "<Figure size 720x360 with 0 Axes>"
      ]
     },
     "metadata": {},
     "output_type": "display_data"
    }
   ],
   "source": [
    "sns.countplot(data=airlines,y='CANCELLATION_CODE',hue='CANCELLED')\n",
    "plt.title('why the flight is  cancelled')\n",
    "plt.figure(figsize=(10,5))\n",
    "plt.show()\n",
    "# it shows the weather is the main reason for cancellation when is (zero)"
   ]
  },
  {
   "cell_type": "code",
   "execution_count": 24,
   "metadata": {},
   "outputs": [
    {
     "data": {
      "text/plain": [
       "<seaborn.axisgrid.FacetGrid at 0x1766ae65430>"
      ]
     },
     "execution_count": 24,
     "metadata": {},
     "output_type": "execute_result"
    },
    {
     "data": {
      "image/png": "[encoded data removed]",
      "text/plain": [
       "<Figure size 360x360 with 1 Axes>"
      ]
     },
     "metadata": {
      "needs_background": "light"
     },
     "output_type": "display_data"
    }
   ],
   "source": [
    "sns.catplot('country','long',data=airports,kind='box', color='red')\n",
    "# the US has the most longitude of the airport"
   ]
  },
  {
   "cell_type": "code",
   "execution_count": 25,
   "metadata": {},
   "outputs": [
    {
     "data": {
      "text/plain": [
       "(array([5.69975e+05, 3.34750e+04, 1.99800e+03, 2.11000e+02, 5.10000e+01,\n",
       "        3.20000e+01, 1.40000e+01, 7.00000e+00, 1.00000e+00, 1.00000e+00]),\n",
       " array([ -91. ,   70.6,  232.2,  393.8,  555.4,  717. ,  878.6, 1040.2,\n",
       "        1201.8, 1363.4, 1525. ]),\n",
       " <a list of 10 Patch objects>)"
      ]
     },
     "execution_count": 25,
     "metadata": {},
     "output_type": "execute_result"
    },
    {
     "data": {
      "image/png": "[encoded data removed]",
      "text/plain": [
       "<Figure size 720x360 with 1 Axes>"
      ]
     },
     "metadata": {
      "needs_background": "light"
     },
     "output_type": "display_data"
    }
   ],
   "source": [
    "plt.hist(airlines['ARR_DELAY'])\n",
    "#Difference in minutes between scheduled and actual arrival time. Early arrivals show negative numbers.(between lower than zero until 200(almost))."
   ]
  },
  {
   "cell_type": "code",
   "execution_count": 26,
   "metadata": {},
   "outputs": [
    {
     "data": {
      "text/plain": [
       "<seaborn.axisgrid.FacetGrid at 0x17669ce3130>"
      ]
     },
     "execution_count": 26,
     "metadata": {},
     "output_type": "execute_result"
    },
    {
     "data": {
      "image/png": "[encoded data removed]",
      "text/plain": [
       "<Figure size 360x360 with 1 Axes>"
      ]
     },
     "metadata": {
      "needs_background": "light"
     },
     "output_type": "display_data"
    }
   ],
   "source": [
    "sns.relplot('DIVERTED','TAXI_IN',data=airlines,kind='line')"
   ]
  },
  {
   "cell_type": "code",
   "execution_count": 27,
   "metadata": {},
   "outputs": [
    {
     "data": {
      "text/plain": [
       "<matplotlib.axes._subplots.AxesSubplot at 0x1766af9a7f0>"
      ]
     },
     "execution_count": 27,
     "metadata": {},
     "output_type": "execute_result"
    },
    {
     "data": {
      "image/png": "[encoded data removed]",
      "text/plain": [
       "<Figure size 720x360 with 1 Axes>"
      ]
     },
     "metadata": {
      "needs_background": "light"
     },
     "output_type": "display_data"
    }
   ],
   "source": [
    "sns.scatterplot(x='ARR_DELAY',y='WEATHER_DELAY',\n",
    "        data=airlines,color='pink')\n",
    "#we figure out the most the Actual Arrival Time for weather delay is between zero and 400(hhmm)"
   ]
  },
  {
   "cell_type": "code",
   "execution_count": 28,
   "metadata": {},
   "outputs": [
    {
     "data": {
      "image/png": "[encoded data removed]",
      "text/plain": [
       "<Figure size 720x360 with 1 Axes>"
      ]
     },
     "metadata": {
      "needs_background": "light"
     },
     "output_type": "display_data"
    }
   ],
   "source": [
    "fig,ax=plt.subplots(figsize=(10,5))\n",
    "sns.countplot(airlines['CANCELLED'],hue=airlines['CANCELLATION_CODE'],ax=ax)\n",
    "plt.xlabel('Cancelled')\n",
    "plt.ylabel('Cancelled reason')\n",
    "plt.xticks(rotation=50)\n",
    "plt.show()\n",
    "#it is clear that the weather has the main portion for cancelling the flight"
   ]
  },
  {
   "cell_type": "code",
   "execution_count": 29,
   "metadata": {},
   "outputs": [
    {
     "data": {
      "image/png": "[encoded data removed]",
      "text/plain": [
       "<Figure size 2160x2016 with 5 Axes>"
      ]
     },
     "metadata": {
      "needs_background": "light"
     },
     "output_type": "display_data"
    }
   ],
   "source": [
    "# abundance for each of the columns\n",
    "import itertools\n",
    "columns=airlines.columns[:5]\n",
    "plt.subplots(figsize=(30,28))\n",
    "length=len(columns)\n",
    "for i,j in itertools.zip_longest(columns,range(length)):\n",
    "    plt.subplot((length/2),5,j+1)\n",
    "    plt.subplots_adjust(wspace=0.3,hspace=0.8)\n",
    "    airlines[i].hist(bins=30,edgecolor='black')\n",
    "    plt.title(i)\n",
    "plt.show()"
   ]
  },
  {
   "cell_type": "code",
   "execution_count": 30,
   "metadata": {},
   "outputs": [
    {
     "data": {
      "image/png": "[encoded data removed]",
      "text/plain": [
       "<Figure size 1008x864 with 2 Axes>"
      ]
     },
     "metadata": {
      "needs_background": "light"
     },
     "output_type": "display_data"
    }
   ],
   "source": [
    "# Dataframe correlation\n",
    "del_corr = airlines.corr()\n",
    "\n",
    "# figure\n",
    "f, ax = plt.subplots(figsize=(14, 12))\n",
    "\n",
    "# Draw the heatmap\n",
    "sns.heatmap(del_corr,annot=True,cmap='inferno')\n",
    "plt.show()"
   ]
  },
  {
   "cell_type": "markdown",
   "metadata": {},
   "source": [
    "we have 2 correlation: positive (more then .6 ) and negative (less than .6 and higher than .2)\n",
    "\n",
    "Positive correlations between:\n",
    "\n",
    "DEPARTURE_DELAY and\n",
    "\n",
    "CARRIER_DELAY\n",
    "\n",
    "LATE_AIRCRAFT_DELAY\n",
    "\n",
    "ARRIVAL_DELAY and\n",
    "\n",
    "DEPARTURE_DELAY\n",
    "\n",
    "LATE_AIRCRAFT_DELAY\n",
    "\n",
    "Negative correlation between:\n",
    "\n",
    "ARRIVAL_DELAY and\n",
    "\n",
    "NAS_DELAY\n",
    "\n",
    "WEATHER_DELAY\n",
    "\n",
    "DEPARTURE_DELAY and\n",
    "\n",
    "NAS_DELAY\n",
    "\n",
    "WEATHER_DELAY\n",
    "\n",
    "TAXI_OUT and\n",
    "\n",
    "ELAPSED_TIME"
   ]
  },
  {
   "cell_type": "code",
   "execution_count": 31,
   "metadata": {},
   "outputs": [],
   "source": [
    "# Marking the delayed flights\n",
    "airlines['DELAYED'] = airlines.loc[:,'ARR_DELAY'].values > 30"
   ]
  },
  {
   "cell_type": "code",
   "execution_count": 32,
   "metadata": {},
   "outputs": [
    {
     "data": {
      "image/png": "[encoded data removed]",
      "text/plain": [
       "<Figure size 720x864 with 1 Axes>"
      ]
     },
     "metadata": {
      "needs_background": "light"
     },
     "output_type": "display_data"
    }
   ],
   "source": [
    "figsize=plt.subplots(figsize=(10,12))\n",
    "sns.countplot(x='DELAYED',hue='CANCELLATION_CODE',data=airlines,color='purple')\n",
    "plt.show()\n",
    "#The most cancellation portion is for weather problem when we have delay also and not"
   ]
  },
  {
   "cell_type": "raw",
   "metadata": {},
   "source": [
    "In this part, we want to know which part of delay has the most portion (1-Carrier Delay in Minutes,2-Weather Delay in Minutes,3-National Air System Delay in Minutes,4-SecurityDelay in Minutes,5-Late Aircraft Delay, in Minutes)"
   ]
  },
  {
   "cell_type": "markdown",
   "metadata": {},
   "source": [
    "# we want to make models with (Naïve Bayes, Logistic Regression, Decision Tree,Random Forest, Gradient Boosting and SVM)"
   ]
  },
  {
   "cell_type": "code",
   "execution_count": 33,
   "metadata": {},
   "outputs": [],
   "source": [
    "from sklearn import metrics \n",
    "from sklearn.metrics import classification_report, confusion_matrix\n",
    "from sklearn.tree import DecisionTreeClassifier\n",
    "from sklearn.ensemble import RandomForestClassifier\n",
    "from sklearn.svm import SVC\n",
    "from sklearn.linear_model import LogisticRegression\n",
    "from sklearn.naive_bayes import GaussianNB\n",
    "from sklearn.model_selection import cross_val_score\n",
    "from sklearn.metrics import roc_auc_score,precision_score,recall_score,auc,accuracy_score"
   ]
  },
  {
   "cell_type": "code",
   "execution_count": 34,
   "metadata": {},
   "outputs": [],
   "source": [
    "# Label definition\n",
    "y = airlines.DELAYED\n",
    "\n",
    "# Choosing the predictors\n",
    "feature_list_s = [\n",
    "    'LATE_AIRCRAFT_DELAY'\n",
    "    ,'CARRIER_DELAY'\n",
    "    ,'NAS_DELAY'\n",
    "    ,'WEATHER_DELAY'\n",
    "    ,'ACTUAL_ELAPSED_TIME']\n",
    "\n",
    "# New dataframe based on a small feature list\n",
    "X_small = airlines[feature_list_s]"
   ]
  },
  {
   "cell_type": "code",
   "execution_count": 35,
   "metadata": {},
   "outputs": [
    {
     "data": {
      "text/plain": [
       "RandomForestClassifier(min_samples_split=3, n_estimators=11, random_state=150)"
      ]
     },
     "execution_count": 35,
     "metadata": {},
     "output_type": "execute_result"
    }
   ],
   "source": [
    "# RandomForestClassifier with 10 trees and fitted on the small feature set \n",
    "clf = RandomForestClassifier(n_estimators = 11, random_state=150,min_samples_split=3,bootstrap=True) \n",
    "clf.fit(X_small, y)"
   ]
  },
  {
   "cell_type": "code",
   "execution_count": 36,
   "metadata": {},
   "outputs": [
    {
     "data": {
      "text/html": [
       "<div>\n",
       "<style scoped>\n",
       "    .dataframe tbody tr th:only-of-type {\n",
       "        vertical-align: middle;\n",
       "    }\n",
       "\n",
       "    .dataframe tbody tr th {\n",
       "        vertical-align: top;\n",
       "    }\n",
       "\n",
       "    .dataframe thead tr th {\n",
       "        text-align: left;\n",
       "    }\n",
       "</style>\n",
       "<table border=\"1\" class=\"dataframe\">\n",
       "  <thead>\n",
       "    <tr>\n",
       "      <th></th>\n",
       "      <th>Variables</th>\n",
       "      <th>Importance</th>\n",
       "    </tr>\n",
       "  </thead>\n",
       "  <tbody>\n",
       "    <tr>\n",
       "      <th>0</th>\n",
       "      <td>LATE_AIRCRAFT_DELAY</td>\n",
       "      <td>0.385847</td>\n",
       "    </tr>\n",
       "    <tr>\n",
       "      <th>1</th>\n",
       "      <td>CARRIER_DELAY</td>\n",
       "      <td>0.249461</td>\n",
       "    </tr>\n",
       "    <tr>\n",
       "      <th>2</th>\n",
       "      <td>NAS_DELAY</td>\n",
       "      <td>0.317197</td>\n",
       "    </tr>\n",
       "    <tr>\n",
       "      <th>3</th>\n",
       "      <td>WEATHER_DELAY</td>\n",
       "      <td>0.0421657</td>\n",
       "    </tr>\n",
       "    <tr>\n",
       "      <th>4</th>\n",
       "      <td>ACTUAL_ELAPSED_TIME</td>\n",
       "      <td>0.0053286</td>\n",
       "    </tr>\n",
       "  </tbody>\n",
       "</table>\n",
       "</div>"
      ],
      "text/plain": [
       "             Variables Importance\n",
       "0  LATE_AIRCRAFT_DELAY   0.385847\n",
       "1        CARRIER_DELAY   0.249461\n",
       "2            NAS_DELAY   0.317197\n",
       "3        WEATHER_DELAY  0.0421657\n",
       "4  ACTUAL_ELAPSED_TIME  0.0053286"
      ]
     },
     "execution_count": 36,
     "metadata": {},
     "output_type": "execute_result"
    }
   ],
   "source": [
    "importances=clf.feature_importances_\n",
    "importances=pd.DataFrame([X_small.columns,importances]).transpose()\n",
    "importances.columns=[['Variables','Importance']]\n",
    "importances\n",
    "# we can see the Late Aircraft Delay  has the highest portion that has been delayed."
   ]
  },
  {
   "cell_type": "code",
   "execution_count": 37,
   "metadata": {},
   "outputs": [],
   "source": [
    "# choosing the predictors\n",
    "feature_list = [\n",
    "    'YEAR'\n",
    "    ,'MONTH'\n",
    "    ,'LATE_AIRCRAFT_DELAY'\n",
    "    ,'ARR_DELAY'\n",
    "    ,'NAS_DELAY'\n",
    "    ,'WEATHER_DELAY'\n",
    "    ,'ACTUAL_ELAPSED_TIME'\n",
    "    ,'DEP_DELAY'\n",
    "    ,'CARRIER_DELAY'\n",
    "    ,'AIR_TIME'\n",
    "    ,'DISTANCE'\n",
    "    ,'TAXI_IN'\n",
    "    ,'TAXI_OUT'\n",
    "    ,'DAY_OF_WEEK'\n",
    "    ,'SECURITY_DELAY'\n",
    "]\n",
    "\n",
    "airlines_1=airlines.sample(n=30000)\n",
    "X = airlines_1[feature_list]"
   ]
  },
  {
   "cell_type": "code",
   "execution_count": 38,
   "metadata": {},
   "outputs": [
    {
     "name": "stdout",
     "output_type": "stream",
     "text": [
      "<class 'pandas.core.frame.DataFrame'>\n",
      "Int64Index: 30000 entries, 95208 to 491614\n",
      "Data columns (total 15 columns):\n",
      " #   Column               Non-Null Count  Dtype  \n",
      "---  ------               --------------  -----  \n",
      " 0   YEAR                 30000 non-null  int64  \n",
      " 1   MONTH                30000 non-null  int64  \n",
      " 2   LATE_AIRCRAFT_DELAY  30000 non-null  float64\n",
      " 3   ARR_DELAY            30000 non-null  float64\n",
      " 4   NAS_DELAY            30000 non-null  float64\n",
      " 5   WEATHER_DELAY        30000 non-null  float64\n",
      " 6   ACTUAL_ELAPSED_TIME  30000 non-null  float64\n",
      " 7   DEP_DELAY            30000 non-null  float64\n",
      " 8   CARRIER_DELAY        30000 non-null  float64\n",
      " 9   AIR_TIME             30000 non-null  float64\n",
      " 10  DISTANCE             30000 non-null  float64\n",
      " 11  TAXI_IN              30000 non-null  float64\n",
      " 12  TAXI_OUT             30000 non-null  float64\n",
      " 13  DAY_OF_WEEK          30000 non-null  int64  \n",
      " 14  SECURITY_DELAY       30000 non-null  float64\n",
      "dtypes: float64(12), int64(3)\n",
      "memory usage: 3.7 MB\n"
     ]
    }
   ],
   "source": [
    "X.info()"
   ]
  },
  {
   "cell_type": "code",
   "execution_count": 39,
   "metadata": {},
   "outputs": [],
   "source": [
    "y = airlines_1.DELAYED"
   ]
  },
  {
   "cell_type": "code",
   "execution_count": 40,
   "metadata": {},
   "outputs": [],
   "source": [
    "from sklearn import preprocessing\n",
    "from sklearn.model_selection import train_test_split\n",
    "X_train,X_test,y_train,y_test=train_test_split(X,y,test_size=0.2,random_state=0)\n",
    "from sklearn.preprocessing import scale\n",
    "X_train=scale(X_train)\n",
    "X_test=scale(X_test)"
   ]
  },
  {
   "cell_type": "code",
   "execution_count": 41,
   "metadata": {},
   "outputs": [
    {
     "name": "stdout",
     "output_type": "stream",
     "text": [
      "[ 0.          0.          7.31795953 10.64471869  5.58705023  3.36230992\n",
      "  0.22024549  0.81375856  6.72404578  0.21533131 -0.35766442 -0.0133128\n",
      "  0.08745767 -0.0360515   0.4221034 ]\n",
      "[-10.67284677]\n"
     ]
    }
   ],
   "source": [
    "from sklearn.linear_model import LogisticRegression\n",
    "model=LogisticRegression()\n",
    "model=model.fit(X_train,y_train)\n",
    "slope=model.coef_\n",
    "\n",
    "coef=model.intercept_\n",
    "print(slope.flatten())\n",
    "print(coef)"
   ]
  },
  {
   "cell_type": "code",
   "execution_count": 42,
   "metadata": {},
   "outputs": [
    {
     "data": {
      "text/plain": [
       "array([False, False, False, ..., False,  True, False])"
      ]
     },
     "execution_count": 42,
     "metadata": {},
     "output_type": "execute_result"
    }
   ],
   "source": [
    "predictions=model.predict(X_test)\n",
    "predictions"
   ]
  },
  {
   "cell_type": "code",
   "execution_count": 43,
   "metadata": {},
   "outputs": [
    {
     "data": {
      "text/plain": [
       "0.9943333333333333"
      ]
     },
     "execution_count": 43,
     "metadata": {},
     "output_type": "execute_result"
    }
   ],
   "source": [
    "score=accuracy_score(y_test,predictions)\n",
    "score"
   ]
  },
  {
   "cell_type": "markdown",
   "metadata": {},
   "source": [
    "# RFE for feature selections"
   ]
  },
  {
   "cell_type": "raw",
   "metadata": {},
   "source": [
    "Recursive Feature Elimination, or RFE for short, is a popular feature selection algorithm.\n",
    "RFE is popular because it is easy to configure and use and because it is effective at selecting those features (columns) in a training dataset that are more or most relevant in predicting the target variable."
   ]
  },
  {
   "cell_type": "code",
   "execution_count": 44,
   "metadata": {},
   "outputs": [],
   "source": [
    "from mlxtend.feature_selection import SequentialFeatureSelector as SFS\n",
    "from mlxtend.plotting import plot_sequential_feature_selection as plot_sfs\n",
    "from sklearn.linear_model import LinearRegression"
   ]
  },
  {
   "cell_type": "code",
   "execution_count": 45,
   "metadata": {
    "scrolled": true
   },
   "outputs": [
    {
     "data": {
      "image/png": "[encoded data removed]",
      "text/plain": [
       "<Figure size 720x360 with 1 Axes>"
      ]
     },
     "metadata": {
      "needs_background": "light"
     },
     "output_type": "display_data"
    }
   ],
   "source": [
    "model_second = LinearRegression()\n",
    "sfs = SFS(model_second, k_features='best', forward=False, floating=False, \n",
    "          scoring='neg_mean_squared_error', cv=20)\n",
    "model = sfs.fit(X_train, y_train)\n",
    "\n",
    "fig = plot_sfs(sfs.get_metric_dict(), kind='std_err')\n",
    "\n",
    "plt.title('Backward Selection (w. StdErr)')\n",
    "plt.grid()\n",
    "plt.show()"
   ]
  },
  {
   "cell_type": "code",
   "execution_count": 46,
   "metadata": {},
   "outputs": [
    {
     "name": "stdout",
     "output_type": "stream",
     "text": [
      "Selected features: (0, 2, 3, 4, 5, 6, 7, 8, 9, 10, 11, 12, 14)\n"
     ]
    }
   ],
   "source": [
    "print('Selected features:', sfs.k_feature_idx_)\n",
    "#as you see, almost all features are important(all columns) when want to train all models with the best accuracy."
   ]
  },
  {
   "cell_type": "markdown",
   "metadata": {},
   "source": [
    "# GaussianNB model"
   ]
  },
  {
   "cell_type": "code",
   "execution_count": 47,
   "metadata": {},
   "outputs": [
    {
     "data": {
      "text/plain": [
       "GaussianNB()"
      ]
     },
     "execution_count": 47,
     "metadata": {},
     "output_type": "execute_result"
    }
   ],
   "source": [
    "#Import Gaussian Naive Bayes model\n",
    "from sklearn.naive_bayes import GaussianNB\n",
    "\n",
    "#Create a Gaussian Classifier\n",
    "model = GaussianNB()\n",
    "\n",
    "# Train the model using the training sets\n",
    "model.fit(X_train,y_train)"
   ]
  },
  {
   "cell_type": "code",
   "execution_count": 48,
   "metadata": {},
   "outputs": [
    {
     "data": {
      "text/plain": [
       "array([False, False, False, ..., False,  True, False])"
      ]
     },
     "execution_count": 48,
     "metadata": {},
     "output_type": "execute_result"
    }
   ],
   "source": [
    "predictions=model.predict(X_test)\n",
    "predictions"
   ]
  },
  {
   "cell_type": "code",
   "execution_count": 49,
   "metadata": {},
   "outputs": [
    {
     "data": {
      "text/plain": [
       "0.9605"
      ]
     },
     "execution_count": 49,
     "metadata": {},
     "output_type": "execute_result"
    }
   ],
   "source": [
    "score=accuracy_score(y_test,predictions)\n",
    "score"
   ]
  },
  {
   "cell_type": "raw",
   "metadata": {},
   "source": [
    "More specifically, the test determines whether it is equally likely that any randomly selected observation from one sample will be greater or less than a sample in the other distribution. If violated, it suggests differing distributions.\n",
    "Fail to Reject H0: Sample distributions are equal.\n",
    "Reject H0: Sample distributions are not equal"
   ]
  },
  {
   "cell_type": "markdown",
   "metadata": {},
   "source": [
    "# Support Vector Machine model"
   ]
  },
  {
   "cell_type": "code",
   "execution_count": 50,
   "metadata": {},
   "outputs": [],
   "source": [
    "model=SVC( shrinking=True,\n",
    "    probability=True,\n",
    "    tol=0.02,\n",
    "    cache_size=100,\n",
    "    degree=9\n",
    "    )"
   ]
  },
  {
   "cell_type": "code",
   "execution_count": 51,
   "metadata": {},
   "outputs": [
    {
     "data": {
      "text/plain": [
       "SVC(cache_size=100, degree=9, probability=True, tol=0.02)"
      ]
     },
     "execution_count": 51,
     "metadata": {},
     "output_type": "execute_result"
    }
   ],
   "source": [
    "model.fit(X_train,y_train)"
   ]
  },
  {
   "cell_type": "code",
   "execution_count": 52,
   "metadata": {},
   "outputs": [
    {
     "data": {
      "text/plain": [
       "array([False, False, False, ..., False,  True, False])"
      ]
     },
     "execution_count": 52,
     "metadata": {},
     "output_type": "execute_result"
    }
   ],
   "source": [
    "predictions=model.predict(X_test)\n",
    "predictions"
   ]
  },
  {
   "cell_type": "code",
   "execution_count": 53,
   "metadata": {},
   "outputs": [
    {
     "data": {
      "text/plain": [
       "0.9923333333333333"
      ]
     },
     "execution_count": 53,
     "metadata": {},
     "output_type": "execute_result"
    }
   ],
   "source": [
    "score=accuracy_score(y_test,predictions)\n",
    "score"
   ]
  },
  {
   "cell_type": "markdown",
   "metadata": {},
   "source": [
    "# Decision Tree Classifier"
   ]
  },
  {
   "cell_type": "code",
   "execution_count": 54,
   "metadata": {},
   "outputs": [],
   "source": [
    "model=DecisionTreeClassifier(min_samples_split=9,\n",
    "    min_samples_leaf=5,\n",
    "    min_weight_fraction_leaf=0.5,\n",
    "    max_features=None,\n",
    "    random_state=None,\n",
    "    max_leaf_nodes=None,\n",
    "    min_impurity_decrease=0.1)"
   ]
  },
  {
   "cell_type": "code",
   "execution_count": 55,
   "metadata": {},
   "outputs": [
    {
     "data": {
      "text/plain": [
       "DecisionTreeClassifier(min_impurity_decrease=0.1, min_samples_leaf=5,\n",
       "                       min_samples_split=9, min_weight_fraction_leaf=0.5)"
      ]
     },
     "execution_count": 55,
     "metadata": {},
     "output_type": "execute_result"
    }
   ],
   "source": [
    "model.fit(X_train,y_train)"
   ]
  },
  {
   "cell_type": "code",
   "execution_count": 56,
   "metadata": {},
   "outputs": [
    {
     "data": {
      "text/plain": [
       "array([False, False, False, ..., False, False, False])"
      ]
     },
     "execution_count": 56,
     "metadata": {},
     "output_type": "execute_result"
    }
   ],
   "source": [
    "predictions=model.predict(X_test)\n",
    "predictions"
   ]
  },
  {
   "cell_type": "code",
   "execution_count": 57,
   "metadata": {},
   "outputs": [
    {
     "data": {
      "text/plain": [
       "0.8578333333333333"
      ]
     },
     "execution_count": 57,
     "metadata": {},
     "output_type": "execute_result"
    }
   ],
   "source": [
    "score=accuracy_score(y_test,predictions)\n",
    "score"
   ]
  },
  {
   "cell_type": "markdown",
   "metadata": {},
   "source": [
    "# Random Forest model"
   ]
  },
  {
   "cell_type": "code",
   "execution_count": 58,
   "metadata": {},
   "outputs": [],
   "source": [
    "model=RandomForestClassifier(n_estimators=100,\n",
    "    min_samples_split=5,\n",
    "    min_samples_leaf=3,\n",
    "    ccp_alpha=0.1)"
   ]
  },
  {
   "cell_type": "code",
   "execution_count": 59,
   "metadata": {},
   "outputs": [
    {
     "data": {
      "text/plain": [
       "RandomForestClassifier(ccp_alpha=0.1, min_samples_leaf=3, min_samples_split=5)"
      ]
     },
     "execution_count": 59,
     "metadata": {},
     "output_type": "execute_result"
    }
   ],
   "source": [
    "model.fit(X_train,y_train)"
   ]
  },
  {
   "cell_type": "code",
   "execution_count": 60,
   "metadata": {},
   "outputs": [
    {
     "data": {
      "text/plain": [
       "array([False, False, False, ..., False, False, False])"
      ]
     },
     "execution_count": 60,
     "metadata": {},
     "output_type": "execute_result"
    }
   ],
   "source": [
    "predictions=model.predict(X_test)\n",
    "predictions"
   ]
  },
  {
   "cell_type": "code",
   "execution_count": 61,
   "metadata": {},
   "outputs": [
    {
     "data": {
      "text/plain": [
       "0.8578333333333333"
      ]
     },
     "execution_count": 61,
     "metadata": {},
     "output_type": "execute_result"
    }
   ],
   "source": [
    "score=accuracy_score(y_test,predictions)\n",
    "score"
   ]
  },
  {
   "cell_type": "markdown",
   "metadata": {},
   "source": [
    "# PCA (Principal Component Analysis)"
   ]
  },
  {
   "cell_type": "raw",
   "metadata": {},
   "source": [
    "Principal Component Analysis (PCA) is used to explain the variance-covariance structure of a set of variables through linear combinations. It is often used as a dimensionality-reduction technique.\n",
    "PCA is not Definitely increase accuracy. PCA finds a vector that \"best represents\" your data set in a much lower dimension. To get better accuracy, you need to find a vector that \"best discriminates\" between your classes."
   ]
  },
  {
   "cell_type": "code",
   "execution_count": 62,
   "metadata": {},
   "outputs": [
    {
     "data": {
      "text/plain": [
       "array([[ 0.        ,  0.        , -0.24693032, ..., -0.72558617,\n",
       "        -0.43597081, -0.02337808],\n",
       "       [ 0.        ,  0.        , -0.24693032, ..., -0.53774349,\n",
       "         1.1275826 , -0.02337808],\n",
       "       [ 0.        ,  0.        , -0.24693032, ..., -0.25597948,\n",
       "        -1.47833975, -0.02337808],\n",
       "       ...,\n",
       "       [ 0.        ,  0.        , -0.24693032, ...,  0.49539123,\n",
       "         0.60639813, -0.02337808],\n",
       "       [ 0.        ,  0.        , -0.24693032, ..., -0.63166483,\n",
       "         0.60639813, -0.02337808],\n",
       "       [ 0.        ,  0.        , -0.24693032, ..., -0.63166483,\n",
       "         1.64876707, -0.02337808]])"
      ]
     },
     "execution_count": 62,
     "metadata": {},
     "output_type": "execute_result"
    }
   ],
   "source": [
    "# Scale the data to be between -1 and 1\n",
    "from sklearn.preprocessing import StandardScaler\n",
    "scaler = StandardScaler()\n",
    "X=scaler.fit_transform(X)\n",
    "X"
   ]
  },
  {
   "cell_type": "code",
   "execution_count": 63,
   "metadata": {},
   "outputs": [
    {
     "data": {
      "text/plain": [
       "array([[-1.37293434e+00,  3.29579857e-01,  2.34910142e-01, ...,\n",
       "         3.23894198e-03,  1.29383093e-17,  0.00000000e+00],\n",
       "       [-1.33500112e+00,  7.44772919e-01,  3.66917036e-01, ...,\n",
       "         2.41996776e-03,  4.87640827e-16, -0.00000000e+00],\n",
       "       [-1.22914227e+00,  2.33582406e-01,  7.68855781e-02, ...,\n",
       "         3.15482669e-03, -5.58941963e-21, -0.00000000e+00],\n",
       "       ...,\n",
       "       [-1.75372648e+00,  7.31039464e-01, -4.14292083e-01, ...,\n",
       "         4.26789620e-04, -1.41000652e-20,  0.00000000e+00],\n",
       "       [-8.85995504e-01,  2.47406114e-01, -4.55787359e-01, ...,\n",
       "         1.25923676e-03, -2.89501954e-22,  0.00000000e+00],\n",
       "       [-3.26036972e-01, -7.18805811e-01,  5.41926790e-01, ...,\n",
       "         2.68590296e-03, -4.25953247e-20, -0.00000000e+00]])"
      ]
     },
     "execution_count": 63,
     "metadata": {},
     "output_type": "execute_result"
    }
   ],
   "source": [
    "from sklearn.decomposition import PCA\n",
    "pca = PCA()\n",
    "pca.fit_transform(X)"
   ]
  },
  {
   "cell_type": "code",
   "execution_count": 64,
   "metadata": {},
   "outputs": [
    {
     "data": {
      "text/plain": [
       "array([[ 0.00000000e+00,  0.00000000e+00,  0.00000000e+00,\n",
       "         0.00000000e+00,  0.00000000e+00,  0.00000000e+00,\n",
       "         0.00000000e+00,  0.00000000e+00,  0.00000000e+00,\n",
       "         0.00000000e+00,  0.00000000e+00,  0.00000000e+00,\n",
       "         0.00000000e+00,  0.00000000e+00,  0.00000000e+00],\n",
       "       [ 0.00000000e+00,  1.13573641e-31,  6.35507254e-17,\n",
       "         5.14155648e-17,  6.42939645e-17, -6.95982791e-17,\n",
       "         2.02604156e-16,  6.82825015e-17,  2.38603551e-17,\n",
       "         1.84035887e-16,  1.90909725e-16,  1.90557894e-16,\n",
       "         7.64002250e-17,  9.42132600e-17, -6.49903512e-17],\n",
       "       [ 0.00000000e+00,  6.35507254e-17,  1.00003333e+00,\n",
       "         6.21318603e-01, -3.56731037e-03,  3.37368387e-02,\n",
       "        -6.50904849e-03,  6.56143452e-01,  2.07378779e-02,\n",
       "        -1.65111307e-02, -1.48922320e-02,  1.69475089e-02,\n",
       "         5.69469633e-02,  3.70575299e-04,  5.91206253e-03],\n",
       "       [ 0.00000000e+00,  5.14155648e-17,  6.21318603e-01,\n",
       "         1.00003333e+00,  4.34706303e-01,  2.88794541e-01,\n",
       "         5.78292157e-02,  9.26697842e-01,  5.33836478e-01,\n",
       "         2.54079593e-03, -2.68262658e-02,  1.16833399e-01,\n",
       "         3.10357915e-01, -6.72503146e-03,  3.20037864e-02],\n",
       "       [ 0.00000000e+00,  6.42939645e-17, -3.56731037e-03,\n",
       "         4.34706303e-01,  1.00003333e+00,  1.04545833e-02,\n",
       "         1.17700110e-01,  2.94055389e-01, -3.49098681e-02,\n",
       "         5.10916719e-02,  1.24854119e-02,  1.38274449e-01,\n",
       "         3.83996722e-01, -1.70933982e-02, -5.63916096e-03],\n",
       "       [ 0.00000000e+00, -6.95982791e-17,  3.37368387e-02,\n",
       "         2.88794541e-01,  1.04545833e-02,  1.00003333e+00,\n",
       "         1.55037336e-02,  2.82064028e-01, -1.06545017e-02,\n",
       "        -1.36259718e-03, -1.31659194e-03,  4.66999678e-02,\n",
       "         8.91444533e-02,  6.68334480e-03, -1.73720050e-03],\n",
       "       [ 0.00000000e+00,  2.02604156e-16, -6.50904849e-03,\n",
       "         5.78292157e-02,  1.17700110e-01,  1.55037336e-02,\n",
       "         1.00003333e+00,  1.74208510e-02,  3.92477757e-03,\n",
       "         9.85440900e-01,  9.48438875e-01,  1.61368761e-01,\n",
       "         2.49655456e-01,  1.43006018e-02, -8.98982592e-04],\n",
       "       [ 0.00000000e+00,  6.82825015e-17,  6.56143452e-01,\n",
       "         9.26697842e-01,  2.94055389e-01,  2.82064028e-01,\n",
       "         1.74208510e-02,  1.00003333e+00,  5.63600569e-01,\n",
       "         2.50255710e-03,  5.64381669e-03,  2.02870649e-02,\n",
       "         9.32567029e-02,  2.82994730e-03,  3.20013883e-02],\n",
       "       [ 0.00000000e+00,  2.38603551e-17,  2.07378779e-02,\n",
       "         5.33836478e-01, -3.49098681e-02, -1.06545017e-02,\n",
       "         3.92477757e-03,  5.63600569e-01,  1.00003333e+00,\n",
       "        -4.99016981e-03, -7.57615451e-03,  7.39575351e-03,\n",
       "         5.61426338e-02, -1.07166602e-03, -2.83681876e-03],\n",
       "       [ 0.00000000e+00,  1.84035887e-16, -1.65111307e-02,\n",
       "         2.54079593e-03,  5.10916719e-02, -1.36259718e-03,\n",
       "         9.85440900e-01,  2.50255710e-03, -4.99016981e-03,\n",
       "         1.00003333e+00,  9.65170659e-01,  8.79150671e-02,\n",
       "         9.70293405e-02,  1.63143194e-02, -1.07904877e-03],\n",
       "       [ 0.00000000e+00,  1.90909725e-16, -1.48922320e-02,\n",
       "        -2.68262658e-02,  1.24854119e-02, -1.31659194e-03,\n",
       "         9.48438875e-01,  5.64381669e-03, -7.57615451e-03,\n",
       "         9.65170659e-01,  1.00003333e+00,  8.10036015e-02,\n",
       "         7.93937413e-02,  2.02165444e-02, -1.91504899e-03],\n",
       "       [ 0.00000000e+00,  1.90557894e-16,  1.69475089e-02,\n",
       "         1.16833399e-01,  1.38274449e-01,  4.66999678e-02,\n",
       "         1.61368761e-01,  2.02870649e-02,  7.39575351e-03,\n",
       "         8.79150671e-02,  8.10036015e-02,  1.00003333e+00,\n",
       "         4.71912043e-02,  7.07030988e-03, -8.44458589e-04],\n",
       "       [ 0.00000000e+00,  7.64002250e-17,  5.69469633e-02,\n",
       "         3.10357915e-01,  3.83996722e-01,  8.91444533e-02,\n",
       "         2.49655456e-01,  9.32567029e-02,  5.61426338e-02,\n",
       "         9.70293405e-02,  7.93937413e-02,  4.71912043e-02,\n",
       "         1.00003333e+00, -1.12550152e-02,  1.62828015e-03],\n",
       "       [ 0.00000000e+00,  9.42132600e-17,  3.70575299e-04,\n",
       "        -6.72503146e-03, -1.70933982e-02,  6.68334480e-03,\n",
       "         1.43006018e-02,  2.82994730e-03, -1.07166602e-03,\n",
       "         1.63143194e-02,  2.02165444e-02,  7.07030988e-03,\n",
       "        -1.12550152e-02,  1.00003333e+00, -9.85493033e-03],\n",
       "       [ 0.00000000e+00, -6.49903512e-17,  5.91206253e-03,\n",
       "         3.20037864e-02, -5.63916096e-03, -1.73720050e-03,\n",
       "        -8.98982592e-04,  3.20013883e-02, -2.83681876e-03,\n",
       "        -1.07904877e-03, -1.91504899e-03, -8.44458589e-04,\n",
       "         1.62828015e-03, -9.85493033e-03,  1.00003333e+00]])"
      ]
     },
     "execution_count": 64,
     "metadata": {},
     "output_type": "execute_result"
    }
   ],
   "source": [
    "pca.get_covariance()"
   ]
  },
  {
   "cell_type": "code",
   "execution_count": 65,
   "metadata": {},
   "outputs": [
    {
     "data": {
      "text/plain": [
       "array([2.37291571e-01, 2.22560320e-01, 1.02169962e-01, 7.85445782e-02,\n",
       "       7.74919764e-02, 7.58437026e-02, 7.40815754e-02, 7.33204302e-02,\n",
       "       4.97275862e-02, 4.45840057e-03, 2.47828355e-03, 2.02188027e-03,\n",
       "       9.73357459e-06, 6.10258845e-37, 0.00000000e+00])"
      ]
     },
     "execution_count": 65,
     "metadata": {},
     "output_type": "execute_result"
    }
   ],
   "source": [
    "explained_variance=pca.explained_variance_ratio_\n",
    "explained_variance"
   ]
  },
  {
   "cell_type": "code",
   "execution_count": 66,
   "metadata": {},
   "outputs": [
    {
     "data": {
      "image/png": "[encoded data removed]",
      "text/plain": [
       "<Figure size 720x576 with 1 Axes>"
      ]
     },
     "metadata": {},
     "output_type": "display_data"
    }
   ],
   "source": [
    "with plt.style.context('dark_background'):\n",
    "    plt.figure(figsize=(10,8))\n",
    "\n",
    "    plt.bar(range(15), explained_variance, alpha=0.9, align='center',\n",
    "            label='individual explained variance')\n",
    "    plt.ylabel('variance ratio')\n",
    "    plt.xlabel('Principal components')\n",
    "    plt.tight_layout()"
   ]
  },
  {
   "cell_type": "raw",
   "metadata": {},
   "source": [
    "As you see in this plot, the first two components has the hight percentage of varience(alomost%55),the third until ninth they have almost 40% of the data spread and rest of them can be drop."
   ]
  },
  {
   "cell_type": "markdown",
   "metadata": {},
   "source": [
    "# Mann-Whitney U Test"
   ]
  },
  {
   "cell_type": "markdown",
   "metadata": {},
   "source": [
    "The Mann-Whitney U test is a nonparametric statistical significance test for determining whether two independent samples were drawn from a population with the same distribution."
   ]
  },
  {
   "cell_type": "code",
   "execution_count": 67,
   "metadata": {},
   "outputs": [
    {
     "name": "stdout",
     "output_type": "stream",
     "text": [
      "Statistics=430162.000, p=0.0000\n",
      "Different distribution (reject H0)\n"
     ]
    }
   ],
   "source": [
    "from numpy.random import seed\n",
    "from numpy.random import randn\n",
    "from scipy.stats import mannwhitneyu\n",
    "# seed the random number generator\n",
    "seed(16)\n",
    "# generate two independent samples\n",
    "airlines = 5 * randn(1000) + 51\n",
    "airports = 5 * randn(1000) + 52\n",
    "# compare samples\n",
    "stat, p = mannwhitneyu(airlines, airports)\n",
    "print('Statistics=%.3f, p=%.4f' % (stat, p))\n",
    "# interpret\n",
    "alpha = 0.05\n",
    "if p > alpha:\n",
    "    print('Same distribution (fail to reject H0)')\n",
    "else:\n",
    "    print('Different distribution (reject H0)')"
   ]
  },
  {
   "cell_type": "raw",
   "metadata": {},
   "source": [
    "More specifically, the test determines whether it is equally likely that any randomly selected observation from one sample will be greater or less than a sample in the other distribution. If violated, it suggests differing distributions.\n",
    "Fail to Reject H0: Sample distributions are equal.\n",
    "Reject H0: Sample distributions are not equal"
   ]
  },
  {
   "cell_type": "markdown",
   "metadata": {},
   "source": [
    "# Result and Conclusion"
   ]
  },
  {
   "cell_type": "markdown",
   "metadata": {},
   "source": [
    "In the last part I want to tell my result and conclusion in any side.\n",
    "\n",
    "\n",
    "1-In this list I show the percentage of each models:\n",
    "\n",
    "1-Logistic Regression=99.43\n",
    "3-Decision Tree=85.5\n",
    "4-Random Forest=85.78\n",
    "5-Support Vector Machine=99.23\n",
    "6-GaussianNB model=96.05\n",
    "\n",
    "We can see that SVM  and Logistic Regression models are giving the accuracy. So we choose Logistic Reression Model to predict the tune is more and Decision Tree has the worst model among these because of the bad accuracy.\n",
    "\n",
    "If we want to improve our model, we can work on Decison tree and change the amount of the parameters(change the min_weight_fraction_leaf to 0.1) and also ccp_alpha for Random Forest.\n",
    " \n",
    "2-for sum, count and delay part for ARR_DELAY with Destination, ABE  has the smallest average of delay in the destination(AVG_ARR_DELAY==-6.29032). On the other hand , YUM Destination has a lot of huge delays in single flights which effects the total delay of the airline.\n",
    "\n",
    "3-The next part is which part of delay has the highest portion and NAS(Late Aircraft Delay)has the first step among others.\n",
    "\n",
    "\n",
    "Thank you\n"
   ]
  },
  {
   "cell_type": "code",
   "execution_count": null,
   "metadata": {},
   "outputs": [],
   "source": []
  }
 ],
 "metadata": {
  "kernelspec": {
   "display_name": "Python 3",
   "language": "python",
   "name": "python3"
  },
  "language_info": {
   "codemirror_mode": {
    "name": "ipython",
    "version": 3
   },
   "file_extension": ".py",
   "mimetype": "text/x-python",
   "name": "python",
   "nbconvert_exporter": "python",
   "pygments_lexer": "ipython3",
   "version": "3.8.3"
  }
 },
 "nbformat": 4,
 "nbformat_minor": 4
}
